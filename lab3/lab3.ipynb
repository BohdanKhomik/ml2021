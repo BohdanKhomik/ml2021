{
 "cells": [
  {
   "cell_type": "markdown",
   "source": [
    "# Лабораторна робота 2\r\n",
    "### Студента групи МІТ-31 (підгрупа 2)\r\n",
    "### Хоміка Богдана Сергійовича\r\n",
    "\r\n",
    "## Завдання\r\n",
    "1. Створити набір даних за допомогою DatasetGenerator\r\n",
    "2. Завантажити набір даних для класифікації на сайті (у кожного студента має бути інший - прошу організуватись відповідним чином)\r\n",
    "3. (опціонально для отримання відмінної оцінки) Згенерувати набір даних для клаcифікації на основі звичайних можливостей Python.\r\n",
    "4. Для отриманих наборів даних провести встановленні кроки моделювання.\r\n",
    "5. Отримані результати викласти на github у репозиторій ml2021 в основну (default) гілку в папці Lab2.\r\n",
    "\r\n",
    "### Пункт 4 я виконував в усіх пунктах почергово, його не відзначав"
   ],
   "metadata": {}
  },
  {
   "cell_type": "code",
   "execution_count": null,
   "source": [
    "import pandas as pd\r\n",
    "import numpy as np\r\n",
    "import matplotlib.pyplot as plt\r\n",
    "import seaborn as sns\r\n",
    "from sklearn.datasets import make_regression"
   ],
   "outputs": [],
   "metadata": {}
  },
  {
   "cell_type": "markdown",
   "source": [
    "###Пункт 1"
   ],
   "metadata": {}
  },
  {
   "cell_type": "code",
   "execution_count": null,
   "source": [
    "X, y = make_regression(n_samples=512, n_features=10, n_informative=512, n_targets=1,  noise=0.0, shuffle=True, coef=False, random_state=None)\r\n",
    "\r\n",
    "print(X,y)"
   ],
   "outputs": [],
   "metadata": {}
  },
  {
   "cell_type": "code",
   "execution_count": null,
   "source": [
    "df = pd.DataFrame(X, y)\r\n",
    "df.to_csv('sklearn_data_set.csv')\r\n",
    "df.head()"
   ],
   "outputs": [],
   "metadata": {}
  },
  {
   "cell_type": "markdown",
   "source": [
    "###Пункт 2"
   ],
   "metadata": {}
  },
  {
   "cell_type": "code",
   "execution_count": 21,
   "source": [
    "df = pd.read_csv('heart.csv')\r\n",
    "df.head()"
   ],
   "outputs": [
    {
     "output_type": "execute_result",
     "data": {
      "text/html": [
       "<div>\n",
       "<style scoped>\n",
       "    .dataframe tbody tr th:only-of-type {\n",
       "        vertical-align: middle;\n",
       "    }\n",
       "\n",
       "    .dataframe tbody tr th {\n",
       "        vertical-align: top;\n",
       "    }\n",
       "\n",
       "    .dataframe thead th {\n",
       "        text-align: right;\n",
       "    }\n",
       "</style>\n",
       "<table border=\"1\" class=\"dataframe\">\n",
       "  <thead>\n",
       "    <tr style=\"text-align: right;\">\n",
       "      <th></th>\n",
       "      <th>Age</th>\n",
       "      <th>Sex</th>\n",
       "      <th>ChestPainType</th>\n",
       "      <th>RestingBP</th>\n",
       "      <th>Cholesterol</th>\n",
       "      <th>FastingBS</th>\n",
       "      <th>RestingECG</th>\n",
       "      <th>MaxHR</th>\n",
       "      <th>ExerciseAngina</th>\n",
       "      <th>Oldpeak</th>\n",
       "      <th>ST_Slope</th>\n",
       "      <th>HeartDisease</th>\n",
       "    </tr>\n",
       "  </thead>\n",
       "  <tbody>\n",
       "    <tr>\n",
       "      <th>0</th>\n",
       "      <td>40</td>\n",
       "      <td>M</td>\n",
       "      <td>ATA</td>\n",
       "      <td>140</td>\n",
       "      <td>289</td>\n",
       "      <td>0</td>\n",
       "      <td>Normal</td>\n",
       "      <td>172</td>\n",
       "      <td>N</td>\n",
       "      <td>0.0</td>\n",
       "      <td>Up</td>\n",
       "      <td>0</td>\n",
       "    </tr>\n",
       "    <tr>\n",
       "      <th>1</th>\n",
       "      <td>49</td>\n",
       "      <td>F</td>\n",
       "      <td>NAP</td>\n",
       "      <td>160</td>\n",
       "      <td>180</td>\n",
       "      <td>0</td>\n",
       "      <td>Normal</td>\n",
       "      <td>156</td>\n",
       "      <td>N</td>\n",
       "      <td>1.0</td>\n",
       "      <td>Flat</td>\n",
       "      <td>1</td>\n",
       "    </tr>\n",
       "    <tr>\n",
       "      <th>2</th>\n",
       "      <td>37</td>\n",
       "      <td>M</td>\n",
       "      <td>ATA</td>\n",
       "      <td>130</td>\n",
       "      <td>283</td>\n",
       "      <td>0</td>\n",
       "      <td>ST</td>\n",
       "      <td>98</td>\n",
       "      <td>N</td>\n",
       "      <td>0.0</td>\n",
       "      <td>Up</td>\n",
       "      <td>0</td>\n",
       "    </tr>\n",
       "    <tr>\n",
       "      <th>3</th>\n",
       "      <td>48</td>\n",
       "      <td>F</td>\n",
       "      <td>ASY</td>\n",
       "      <td>138</td>\n",
       "      <td>214</td>\n",
       "      <td>0</td>\n",
       "      <td>Normal</td>\n",
       "      <td>108</td>\n",
       "      <td>Y</td>\n",
       "      <td>1.5</td>\n",
       "      <td>Flat</td>\n",
       "      <td>1</td>\n",
       "    </tr>\n",
       "    <tr>\n",
       "      <th>4</th>\n",
       "      <td>54</td>\n",
       "      <td>M</td>\n",
       "      <td>NAP</td>\n",
       "      <td>150</td>\n",
       "      <td>195</td>\n",
       "      <td>0</td>\n",
       "      <td>Normal</td>\n",
       "      <td>122</td>\n",
       "      <td>N</td>\n",
       "      <td>0.0</td>\n",
       "      <td>Up</td>\n",
       "      <td>0</td>\n",
       "    </tr>\n",
       "  </tbody>\n",
       "</table>\n",
       "</div>"
      ],
      "text/plain": [
       "   Age Sex ChestPainType  RestingBP  Cholesterol  FastingBS RestingECG  MaxHR  \\\n",
       "0   40   M           ATA        140          289          0     Normal    172   \n",
       "1   49   F           NAP        160          180          0     Normal    156   \n",
       "2   37   M           ATA        130          283          0         ST     98   \n",
       "3   48   F           ASY        138          214          0     Normal    108   \n",
       "4   54   M           NAP        150          195          0     Normal    122   \n",
       "\n",
       "  ExerciseAngina  Oldpeak ST_Slope  HeartDisease  \n",
       "0              N      0.0       Up             0  \n",
       "1              N      1.0     Flat             1  \n",
       "2              N      0.0       Up             0  \n",
       "3              Y      1.5     Flat             1  \n",
       "4              N      0.0       Up             0  "
      ]
     },
     "metadata": {},
     "execution_count": 21
    }
   ],
   "metadata": {}
  },
  {
   "cell_type": "code",
   "execution_count": 22,
   "source": [
    "df.replace({'M': 0, 'F':1,  \"Normal\":0, \"LVH\":1, \"ST\":2, \"N\":0, \"Y\":1, \"Flat\":0, \"Up\":1, \"Down\":2}, None, True)\r\n",
    "#\"TA\":0, \"ASY\":1, \"ATA\":2, \"NAP\":3,"
   ],
   "outputs": [],
   "metadata": {}
  },
  {
   "cell_type": "code",
   "execution_count": 23,
   "source": [
    "df.tail(5)"
   ],
   "outputs": [
    {
     "output_type": "execute_result",
     "data": {
      "text/html": [
       "<div>\n",
       "<style scoped>\n",
       "    .dataframe tbody tr th:only-of-type {\n",
       "        vertical-align: middle;\n",
       "    }\n",
       "\n",
       "    .dataframe tbody tr th {\n",
       "        vertical-align: top;\n",
       "    }\n",
       "\n",
       "    .dataframe thead th {\n",
       "        text-align: right;\n",
       "    }\n",
       "</style>\n",
       "<table border=\"1\" class=\"dataframe\">\n",
       "  <thead>\n",
       "    <tr style=\"text-align: right;\">\n",
       "      <th></th>\n",
       "      <th>Age</th>\n",
       "      <th>Sex</th>\n",
       "      <th>ChestPainType</th>\n",
       "      <th>RestingBP</th>\n",
       "      <th>Cholesterol</th>\n",
       "      <th>FastingBS</th>\n",
       "      <th>RestingECG</th>\n",
       "      <th>MaxHR</th>\n",
       "      <th>ExerciseAngina</th>\n",
       "      <th>Oldpeak</th>\n",
       "      <th>ST_Slope</th>\n",
       "      <th>HeartDisease</th>\n",
       "    </tr>\n",
       "  </thead>\n",
       "  <tbody>\n",
       "    <tr>\n",
       "      <th>913</th>\n",
       "      <td>45</td>\n",
       "      <td>0</td>\n",
       "      <td>TA</td>\n",
       "      <td>110</td>\n",
       "      <td>264</td>\n",
       "      <td>0</td>\n",
       "      <td>0</td>\n",
       "      <td>132</td>\n",
       "      <td>0</td>\n",
       "      <td>1.2</td>\n",
       "      <td>0</td>\n",
       "      <td>1</td>\n",
       "    </tr>\n",
       "    <tr>\n",
       "      <th>914</th>\n",
       "      <td>68</td>\n",
       "      <td>0</td>\n",
       "      <td>ASY</td>\n",
       "      <td>144</td>\n",
       "      <td>193</td>\n",
       "      <td>1</td>\n",
       "      <td>0</td>\n",
       "      <td>141</td>\n",
       "      <td>0</td>\n",
       "      <td>3.4</td>\n",
       "      <td>0</td>\n",
       "      <td>1</td>\n",
       "    </tr>\n",
       "    <tr>\n",
       "      <th>915</th>\n",
       "      <td>57</td>\n",
       "      <td>0</td>\n",
       "      <td>ASY</td>\n",
       "      <td>130</td>\n",
       "      <td>131</td>\n",
       "      <td>0</td>\n",
       "      <td>0</td>\n",
       "      <td>115</td>\n",
       "      <td>1</td>\n",
       "      <td>1.2</td>\n",
       "      <td>0</td>\n",
       "      <td>1</td>\n",
       "    </tr>\n",
       "    <tr>\n",
       "      <th>916</th>\n",
       "      <td>57</td>\n",
       "      <td>1</td>\n",
       "      <td>ATA</td>\n",
       "      <td>130</td>\n",
       "      <td>236</td>\n",
       "      <td>0</td>\n",
       "      <td>1</td>\n",
       "      <td>174</td>\n",
       "      <td>0</td>\n",
       "      <td>0.0</td>\n",
       "      <td>0</td>\n",
       "      <td>1</td>\n",
       "    </tr>\n",
       "    <tr>\n",
       "      <th>917</th>\n",
       "      <td>38</td>\n",
       "      <td>0</td>\n",
       "      <td>NAP</td>\n",
       "      <td>138</td>\n",
       "      <td>175</td>\n",
       "      <td>0</td>\n",
       "      <td>0</td>\n",
       "      <td>173</td>\n",
       "      <td>0</td>\n",
       "      <td>0.0</td>\n",
       "      <td>1</td>\n",
       "      <td>0</td>\n",
       "    </tr>\n",
       "  </tbody>\n",
       "</table>\n",
       "</div>"
      ],
      "text/plain": [
       "     Age  Sex ChestPainType  RestingBP  Cholesterol  FastingBS  RestingECG  \\\n",
       "913   45    0            TA        110          264          0           0   \n",
       "914   68    0           ASY        144          193          1           0   \n",
       "915   57    0           ASY        130          131          0           0   \n",
       "916   57    1           ATA        130          236          0           1   \n",
       "917   38    0           NAP        138          175          0           0   \n",
       "\n",
       "     MaxHR  ExerciseAngina  Oldpeak  ST_Slope  HeartDisease  \n",
       "913    132               0      1.2         0             1  \n",
       "914    141               0      3.4         0             1  \n",
       "915    115               1      1.2         0             1  \n",
       "916    174               0      0.0         0             1  \n",
       "917    173               0      0.0         1             0  "
      ]
     },
     "metadata": {},
     "execution_count": 23
    }
   ],
   "metadata": {}
  },
  {
   "cell_type": "code",
   "execution_count": 24,
   "source": [
    "print(df.shape)"
   ],
   "outputs": [
    {
     "output_type": "stream",
     "name": "stdout",
     "text": [
      "(918, 12)\n"
     ]
    }
   ],
   "metadata": {}
  },
  {
   "cell_type": "code",
   "execution_count": 25,
   "source": [
    "print(df['ChestPainType'].unique())"
   ],
   "outputs": [
    {
     "output_type": "stream",
     "name": "stdout",
     "text": [
      "['ATA' 'NAP' 'ASY' 'TA']\n"
     ]
    }
   ],
   "metadata": {}
  },
  {
   "cell_type": "code",
   "execution_count": 26,
   "source": [
    "print(df.groupby('ChestPainType').size())"
   ],
   "outputs": [
    {
     "output_type": "stream",
     "name": "stdout",
     "text": [
      "ChestPainType\n",
      "ASY    496\n",
      "ATA    173\n",
      "NAP    203\n",
      "TA      46\n",
      "dtype: int64\n"
     ]
    }
   ],
   "metadata": {}
  },
  {
   "cell_type": "code",
   "execution_count": 31,
   "source": [
    "sns.countplot(df['ChestPainType'],label=\"Count\")\r\n",
    "plt.show()"
   ],
   "outputs": [
    {
     "output_type": "stream",
     "name": "stderr",
     "text": [
      "D:\\anaconda\\lib\\site-packages\\seaborn\\_decorators.py:36: FutureWarning: Pass the following variable as a keyword arg: x. From version 0.12, the only valid positional argument will be `data`, and passing other arguments without an explicit keyword will result in an error or misinterpretation.\n",
      "  warnings.warn(\n"
     ]
    },
    {
     "output_type": "display_data",
     "data": {
      "image/png": "[encoded data removed]",
      "text/plain": [
       "<Figure size 432x288 with 1 Axes>"
      ]
     },
     "metadata": {
      "needs_background": "light"
     }
    }
   ],
   "metadata": {}
  },
  {
   "cell_type": "code",
   "execution_count": 45,
   "source": [
    "df.drop('ChestPainType', axis=1).plot(kind='box', subplots=True, layout=(2,6), sharex=False, sharey=False, figsize=(30,15), \r\n",
    "                                        title='Box Plot for each input variable')\r\n",
    "plt.savefig('data_box_plot')\r\n",
    "plt.show()"
   ],
   "outputs": [
    {
     "output_type": "display_data",
     "data": {
      "image/png": "[encoded data removed]",
      "text/plain": [
       "<Figure size 2160x1080 with 12 Axes>"
      ]
     },
     "metadata": {
      "needs_background": "light"
     }
    }
   ],
   "metadata": {}
  },
  {
   "cell_type": "code",
   "execution_count": 47,
   "source": [
    "import pylab as pl\r\n",
    "df.drop('ChestPainType' ,axis=1).hist(bins=60, figsize=(12,12))\r\n",
    "pl.suptitle(\"Histogram for each numeric input variable\")\r\n",
    "plt.savefig('data_hist')\r\n",
    "plt.show()"
   ],
   "outputs": [
    {
     "output_type": "display_data",
     "data": {
      "image/png": "[encoded data removed]",
      "text/plain": [
       "<Figure size 864x864 with 12 Axes>"
      ]
     },
     "metadata": {
      "needs_background": "light"
     }
    }
   ],
   "metadata": {}
  },
  {
   "cell_type": "code",
   "execution_count": 50,
   "source": [
    "import sklearn.model_selection\r\n",
    "import sklearn.datasets\r\n",
    "from sklearn.datasets import make_classification\r\n",
    "\r\n",
    "X, y = sklearn.datasets.make_classification(n_samples=1024, n_features=20, class_sep=0.98, random_state=0)\r\n",
    "model1 = (sklearn.model_selection.train_test_split(X, y, test_size=0.5, random_state=0),) # x_train, x_test, y_train, y_test\r\n",
    "\r\n",
    "model2 = pd.DataFrame(data={'X':[np.random.uniform(-4.0, 4.0) for i in range(1000)],'Y':[np.random.uniform(-300.0, 300.0) for i in range(1000)],'Z':['90.0' for i in range(1000)]})"
   ],
   "outputs": [],
   "metadata": {}
  },
  {
   "cell_type": "code",
   "execution_count": 51,
   "source": [
    "from sklearn.model_selection import train_test_split\r\n",
    "X_train, X_test, y_train, y_test = train_test_split(X, y, random_state=0)\r\n",
    "from sklearn.preprocessing import MinMaxScaler\r\n",
    "scaler = MinMaxScaler()\r\n",
    "X_train = scaler.fit_transform(X_train)\r\n",
    "X_test = scaler.transform(X_test)"
   ],
   "outputs": [],
   "metadata": {}
  },
  {
   "cell_type": "code",
   "execution_count": 52,
   "source": [
    "from sklearn.linear_model import LogisticRegression\r\n",
    "logreg = LogisticRegression()\r\n",
    "logreg.fit(X_train, y_train)\r\n",
    "print('Accuracy of Logistic regression classifier on training set: {:.2f}'\r\n",
    "     .format(logreg.score(X_train, y_train)))\r\n",
    "print('Accuracy of Logistic regression classifier on test set: {:.2f}'\r\n",
    "     .format(logreg.score(X_test, y_test)))"
   ],
   "outputs": [
    {
     "output_type": "stream",
     "name": "stdout",
     "text": [
      "Accuracy of Logistic regression classifier on training set: 0.92\n",
      "Accuracy of Logistic regression classifier on test set: 0.91\n"
     ]
    }
   ],
   "metadata": {}
  },
  {
   "cell_type": "code",
   "execution_count": 53,
   "source": [
    "from sklearn.tree import DecisionTreeClassifier\r\n",
    "clf = DecisionTreeClassifier().fit(X_train, y_train)\r\n",
    "print('Accuracy of Decision Tree classifier on training set: {:.2f}'\r\n",
    "     .format(clf.score(X_train, y_train)))\r\n",
    "print('Accuracy of Decision Tree classifier on test set: {:.2f}'\r\n",
    "     .format(clf.score(X_test, y_test)))"
   ],
   "outputs": [
    {
     "output_type": "stream",
     "name": "stdout",
     "text": [
      "Accuracy of Decision Tree classifier on training set: 1.00\n",
      "Accuracy of Decision Tree classifier on test set: 0.88\n"
     ]
    }
   ],
   "metadata": {}
  },
  {
   "cell_type": "code",
   "execution_count": 54,
   "source": [
    "from sklearn.neighbors import KNeighborsClassifier\r\n",
    "knn = KNeighborsClassifier()\r\n",
    "knn.fit(X_train, y_train)\r\n",
    "print('Accuracy of K-NN classifier on training set: {:.2f}'\r\n",
    "     .format(knn.score(X_train, y_train)))\r\n",
    "print('Accuracy of K-NN classifier on test set: {:.2f}'\r\n",
    "     .format(knn.score(X_test, y_test)))"
   ],
   "outputs": [
    {
     "output_type": "stream",
     "name": "stdout",
     "text": [
      "Accuracy of K-NN classifier on training set: 0.93\n",
      "Accuracy of K-NN classifier on test set: 0.87\n"
     ]
    }
   ],
   "metadata": {}
  },
  {
   "cell_type": "code",
   "execution_count": 55,
   "source": [
    "from sklearn import metrics\r\n",
    "from sklearn.neighbors import KNeighborsClassifier\r\n",
    "v=[]\r\n",
    "\r\n",
    "k_range = list(range(1, 50))\r\n",
    "for i in k_range:\r\n",
    "    knn = KNeighborsClassifier(n_neighbors=i)\r\n",
    "    knn.fit(X, y)\r\n",
    "    k_pred = knn.predict(X)\r\n",
    "    v.append( metrics.accuracy_score(y, k_pred))\r\n",
    "\r\n",
    "\r\n",
    "import matplotlib.pyplot as plt\r\n",
    "plt.plot(k_range,v,c='Blue',)\r\n",
    "plt.show()"
   ],
   "outputs": [
    {
     "output_type": "display_data",
     "data": {
      "image/png": "[encoded data removed]",
      "text/plain": [
       "<Figure size 432x288 with 1 Axes>"
      ]
     },
     "metadata": {
      "needs_background": "light"
     }
    }
   ],
   "metadata": {}
  },
  {
   "cell_type": "code",
   "execution_count": 62,
   "source": [
    "from sklearn import metrics\r\n",
    "v=[]\r\n",
    "\r\n",
    "\r\n",
    "k_range = list(range(1, 50))\r\n",
    "for i in k_range:\r\n",
    "    knn = KNeighborsClassifier(n_neighbors=i)\r\n",
    "    knn.fit(X_train, y_train)\r\n",
    "    k_pred = knn.predict(X_test)\r\n",
    "    v.append( metrics.accuracy_score(y_test, k_pred))\r\n",
    "\r\n",
    "\r\n",
    "\r\n",
    "import matplotlib.pyplot as plt\r\n",
    "plt.plot(k_range,v)\r\n",
    "\r\n",
    "plt.show()"
   ],
   "outputs": [
    {
     "output_type": "display_data",
     "data": {
      "image/png": "[encoded data removed]",
      "text/plain": [
       "<Figure size 432x288 with 1 Axes>"
      ]
     },
     "metadata": {
      "needs_background": "light"
     }
    }
   ],
   "metadata": {}
  },
  {
   "cell_type": "code",
   "execution_count": 57,
   "source": [
    "knn = KNeighborsClassifier(n_neighbors=12)\r\n",
    "# fit the model with data\r\n",
    "knn.fit(X_train, y_train)\r\n",
    "k_pred = knn.predict(X_test)\r\n",
    "\r\n",
    "metrics.accuracy_score(y_test, k_pred)"
   ],
   "outputs": [
    {
     "output_type": "execute_result",
     "data": {
      "text/plain": [
       "0.875"
      ]
     },
     "metadata": {},
     "execution_count": 57
    }
   ],
   "metadata": {}
  },
  {
   "cell_type": "code",
   "execution_count": 58,
   "source": [
    "from sklearn.discriminant_analysis import LinearDiscriminantAnalysis\r\n",
    "lda = LinearDiscriminantAnalysis()\r\n",
    "lda.fit(X_train, y_train)\r\n",
    "print('Accuracy of LDA classifier on training set: {:.2f}'\r\n",
    "     .format(lda.score(X_train, y_train)))\r\n",
    "print('Accuracy of LDA classifier on test set: {:.2f}'\r\n",
    "     .format(lda.score(X_test, y_test)))"
   ],
   "outputs": [
    {
     "output_type": "stream",
     "name": "stdout",
     "text": [
      "Accuracy of LDA classifier on training set: 0.93\n",
      "Accuracy of LDA classifier on test set: 0.91\n"
     ]
    }
   ],
   "metadata": {}
  },
  {
   "cell_type": "code",
   "execution_count": 59,
   "source": [
    "from sklearn.naive_bayes import GaussianNB\r\n",
    "gnb = GaussianNB()\r\n",
    "gnb.fit(X_train, y_train)\r\n",
    "print('Accuracy of GNB classifier on training set: {:.2f}'\r\n",
    "     .format(gnb.score(X_train, y_train)))\r\n",
    "print('Accuracy of GNB classifier on test set: {:.2f}'\r\n",
    "     .format(gnb.score(X_test, y_test)))"
   ],
   "outputs": [
    {
     "output_type": "stream",
     "name": "stdout",
     "text": [
      "Accuracy of GNB classifier on training set: 0.92\n",
      "Accuracy of GNB classifier on test set: 0.88\n"
     ]
    }
   ],
   "metadata": {}
  },
  {
   "cell_type": "code",
   "execution_count": 60,
   "source": [
    "from sklearn.svm import SVC\r\n",
    "svm = SVC()\r\n",
    "svm.fit(X_train, y_train)\r\n",
    "print('Accuracy of SVM classifier on training set: {:.2f}'\r\n",
    "     .format(svm.score(X_train, y_train)))\r\n",
    "print('Accuracy of SVM classifier on test set: {:.2f}'\r\n",
    "     .format(svm.score(X_test, y_test)))"
   ],
   "outputs": [
    {
     "output_type": "stream",
     "name": "stdout",
     "text": [
      "Accuracy of SVM classifier on training set: 0.96\n",
      "Accuracy of SVM classifier on test set: 0.91\n"
     ]
    }
   ],
   "metadata": {}
  },
  {
   "cell_type": "code",
   "execution_count": 61,
   "source": [
    "from sklearn.metrics import classification_report\r\n",
    "from sklearn.metrics import confusion_matrix\r\n",
    "pred = knn.predict(X_test)\r\n",
    "print(confusion_matrix(y_test, pred))\r\n",
    "print(classification_report(y_test, pred))"
   ],
   "outputs": [
    {
     "output_type": "stream",
     "name": "stdout",
     "text": [
      "[[106  20]\n",
      " [ 12 118]]\n",
      "              precision    recall  f1-score   support\n",
      "\n",
      "           0       0.90      0.84      0.87       126\n",
      "           1       0.86      0.91      0.88       130\n",
      "\n",
      "    accuracy                           0.88       256\n",
      "   macro avg       0.88      0.87      0.87       256\n",
      "weighted avg       0.88      0.88      0.87       256\n",
      "\n"
     ]
    }
   ],
   "metadata": {}
  },
  {
   "cell_type": "code",
   "execution_count": 27,
   "source": [
    "sns.FacetGrid(df, hue=\"ChestPainType\", size=6) \\\r\n",
    "   .map(plt.scatter, \"RestingBP\", \"Oldpeak\") \\\r\n",
    "   .add_legend()\r\n",
    "\r\n",
    "plt.show()"
   ],
   "outputs": [
    {
     "output_type": "stream",
     "name": "stderr",
     "text": [
      "D:\\anaconda\\lib\\site-packages\\seaborn\\axisgrid.py:316: UserWarning: The `size` parameter has been renamed to `height`; please update your code.\n",
      "  warnings.warn(msg, UserWarning)\n"
     ]
    },
    {
     "output_type": "display_data",
     "data": {
      "image/png": "[encoded data removed]",
      "text/plain": [
       "<Figure size 512.125x432 with 1 Axes>"
      ]
     },
     "metadata": {
      "needs_background": "light"
     }
    }
   ],
   "metadata": {}
  },
  {
   "cell_type": "code",
   "execution_count": 65,
   "source": [
    "g = sns.FacetGrid(df, col=\"Sex\", height=3.5, aspect=.65)\r\n",
    "g.map(sns.histplot, \"ChestPainType\")"
   ],
   "outputs": [
    {
     "output_type": "execute_result",
     "data": {
      "text/plain": [
       "<seaborn.axisgrid.FacetGrid at 0x1ba05834ac0>"
      ]
     },
     "metadata": {},
     "execution_count": 65
    },
    {
     "output_type": "display_data",
     "data": {
      "image/png": "[encoded data removed]",
      "text/plain": [
       "<Figure size 327.6x252 with 2 Axes>"
      ]
     },
     "metadata": {
      "needs_background": "light"
     }
    }
   ],
   "metadata": {}
  },
  {
   "cell_type": "markdown",
   "source": [
    "###Пункт 3"
   ],
   "metadata": {}
  },
  {
   "cell_type": "code",
   "execution_count": 120,
   "source": [
    "import random as rnd\r\n",
    "\r\n",
    "sex = {0:'Man', 1:'Woman'}\r\n",
    "age = {0:'<30', 1:'>30'}\r\n",
    "car = {0:'have', 1:'dont have'}\r\n",
    "marital_status = {0:'YES', 1:'NO'}\r\n",
    "child = {0:'0', 1:'1', 2:'2', 3:'More than 3'}\r\n",
    "citizenship = {0:'Ukraine', 1:'Russia', 2:'Belorussia', 3:'Italia', 4:'France', 5:'Germany', 6:'Romania'}\r\n",
    "data = []\r\n",
    "for i in range(0, 512):\r\n",
    "    row = []\r\n",
    "    row.append(round(rnd.uniform(1, 50), 2))\r\n",
    "    row.append(round(rnd.uniform(1, 10), 2))\r\n",
    "    row.append(sex[rnd.randint(0, 1)])\r\n",
    "    row.append(age[rnd.randint(0, 1)])\r\n",
    "    row.append(car[rnd.randint(0, 1)])\r\n",
    "    row.append(marital_status[rnd.randint(0, 1)])\r\n",
    "    row.append(child[rnd.randint(0, 3)])\r\n",
    "    row.append(citizenship[rnd.randint(0, 6)])\r\n",
    "    data.append(row)\r\n",
    "df = pd.DataFrame(data, columns=['total_utility_bill', 'commission', 'sex', 'age', 'car', 'marital_status', 'child', 'citizenthip'])"
   ],
   "outputs": [],
   "metadata": {}
  },
  {
   "cell_type": "code",
   "execution_count": 121,
   "source": [
    "df.replace({'Man': 0, 'Woman':1, '<30': 0, '>30':1, 'have':0, 'dont have':1, 'YES':0, 'NO':1, '0':0, '1':1, '2':2, 'More than 3':3, 'Ukraine': 0\r\n",
    ", 'Russia':1, 'Belorussia':2, 'Italia':3, 'France':4, 'Germany':5, 'Romania':6}, None, True)\r\n",
    "\r\n",
    "df.to_csv('my_data_set.csv')"
   ],
   "outputs": [],
   "metadata": {}
  },
  {
   "cell_type": "code",
   "execution_count": 122,
   "source": [
    "df.head()"
   ],
   "outputs": [
    {
     "output_type": "execute_result",
     "data": {
      "text/html": [
       "<div>\n",
       "<style scoped>\n",
       "    .dataframe tbody tr th:only-of-type {\n",
       "        vertical-align: middle;\n",
       "    }\n",
       "\n",
       "    .dataframe tbody tr th {\n",
       "        vertical-align: top;\n",
       "    }\n",
       "\n",
       "    .dataframe thead th {\n",
       "        text-align: right;\n",
       "    }\n",
       "</style>\n",
       "<table border=\"1\" class=\"dataframe\">\n",
       "  <thead>\n",
       "    <tr style=\"text-align: right;\">\n",
       "      <th></th>\n",
       "      <th>total_utility_bill</th>\n",
       "      <th>commission</th>\n",
       "      <th>sex</th>\n",
       "      <th>age</th>\n",
       "      <th>car</th>\n",
       "      <th>marital_status</th>\n",
       "      <th>child</th>\n",
       "      <th>citizenthip</th>\n",
       "    </tr>\n",
       "  </thead>\n",
       "  <tbody>\n",
       "    <tr>\n",
       "      <th>0</th>\n",
       "      <td>25.92</td>\n",
       "      <td>3.31</td>\n",
       "      <td>0</td>\n",
       "      <td>0</td>\n",
       "      <td>0</td>\n",
       "      <td>0</td>\n",
       "      <td>1</td>\n",
       "      <td>3</td>\n",
       "    </tr>\n",
       "    <tr>\n",
       "      <th>1</th>\n",
       "      <td>39.19</td>\n",
       "      <td>7.53</td>\n",
       "      <td>0</td>\n",
       "      <td>1</td>\n",
       "      <td>0</td>\n",
       "      <td>1</td>\n",
       "      <td>2</td>\n",
       "      <td>4</td>\n",
       "    </tr>\n",
       "    <tr>\n",
       "      <th>2</th>\n",
       "      <td>49.92</td>\n",
       "      <td>4.24</td>\n",
       "      <td>1</td>\n",
       "      <td>0</td>\n",
       "      <td>1</td>\n",
       "      <td>1</td>\n",
       "      <td>0</td>\n",
       "      <td>1</td>\n",
       "    </tr>\n",
       "    <tr>\n",
       "      <th>3</th>\n",
       "      <td>39.34</td>\n",
       "      <td>4.30</td>\n",
       "      <td>0</td>\n",
       "      <td>1</td>\n",
       "      <td>0</td>\n",
       "      <td>0</td>\n",
       "      <td>3</td>\n",
       "      <td>6</td>\n",
       "    </tr>\n",
       "    <tr>\n",
       "      <th>4</th>\n",
       "      <td>44.70</td>\n",
       "      <td>4.19</td>\n",
       "      <td>0</td>\n",
       "      <td>1</td>\n",
       "      <td>0</td>\n",
       "      <td>0</td>\n",
       "      <td>3</td>\n",
       "      <td>4</td>\n",
       "    </tr>\n",
       "  </tbody>\n",
       "</table>\n",
       "</div>"
      ],
      "text/plain": [
       "   total_utility_bill  commission  sex  age  car  marital_status  child  \\\n",
       "0               25.92        3.31    0    0    0               0      1   \n",
       "1               39.19        7.53    0    1    0               1      2   \n",
       "2               49.92        4.24    1    0    1               1      0   \n",
       "3               39.34        4.30    0    1    0               0      3   \n",
       "4               44.70        4.19    0    1    0               0      3   \n",
       "\n",
       "   citizenthip  \n",
       "0            3  \n",
       "1            4  \n",
       "2            1  \n",
       "3            6  \n",
       "4            4  "
      ]
     },
     "metadata": {},
     "execution_count": 122
    }
   ],
   "metadata": {}
  },
  {
   "cell_type": "code",
   "execution_count": 123,
   "source": [
    "df.tail()"
   ],
   "outputs": [
    {
     "output_type": "execute_result",
     "data": {
      "text/html": [
       "<div>\n",
       "<style scoped>\n",
       "    .dataframe tbody tr th:only-of-type {\n",
       "        vertical-align: middle;\n",
       "    }\n",
       "\n",
       "    .dataframe tbody tr th {\n",
       "        vertical-align: top;\n",
       "    }\n",
       "\n",
       "    .dataframe thead th {\n",
       "        text-align: right;\n",
       "    }\n",
       "</style>\n",
       "<table border=\"1\" class=\"dataframe\">\n",
       "  <thead>\n",
       "    <tr style=\"text-align: right;\">\n",
       "      <th></th>\n",
       "      <th>total_utility_bill</th>\n",
       "      <th>commission</th>\n",
       "      <th>sex</th>\n",
       "      <th>age</th>\n",
       "      <th>car</th>\n",
       "      <th>marital_status</th>\n",
       "      <th>child</th>\n",
       "      <th>citizenthip</th>\n",
       "    </tr>\n",
       "  </thead>\n",
       "  <tbody>\n",
       "    <tr>\n",
       "      <th>507</th>\n",
       "      <td>36.65</td>\n",
       "      <td>7.20</td>\n",
       "      <td>0</td>\n",
       "      <td>1</td>\n",
       "      <td>1</td>\n",
       "      <td>0</td>\n",
       "      <td>0</td>\n",
       "      <td>0</td>\n",
       "    </tr>\n",
       "    <tr>\n",
       "      <th>508</th>\n",
       "      <td>4.66</td>\n",
       "      <td>8.23</td>\n",
       "      <td>0</td>\n",
       "      <td>1</td>\n",
       "      <td>1</td>\n",
       "      <td>0</td>\n",
       "      <td>3</td>\n",
       "      <td>3</td>\n",
       "    </tr>\n",
       "    <tr>\n",
       "      <th>509</th>\n",
       "      <td>42.89</td>\n",
       "      <td>7.19</td>\n",
       "      <td>0</td>\n",
       "      <td>1</td>\n",
       "      <td>0</td>\n",
       "      <td>1</td>\n",
       "      <td>0</td>\n",
       "      <td>3</td>\n",
       "    </tr>\n",
       "    <tr>\n",
       "      <th>510</th>\n",
       "      <td>29.51</td>\n",
       "      <td>5.05</td>\n",
       "      <td>0</td>\n",
       "      <td>1</td>\n",
       "      <td>0</td>\n",
       "      <td>1</td>\n",
       "      <td>2</td>\n",
       "      <td>6</td>\n",
       "    </tr>\n",
       "    <tr>\n",
       "      <th>511</th>\n",
       "      <td>22.89</td>\n",
       "      <td>5.28</td>\n",
       "      <td>1</td>\n",
       "      <td>0</td>\n",
       "      <td>1</td>\n",
       "      <td>0</td>\n",
       "      <td>2</td>\n",
       "      <td>4</td>\n",
       "    </tr>\n",
       "  </tbody>\n",
       "</table>\n",
       "</div>"
      ],
      "text/plain": [
       "     total_utility_bill  commission  sex  age  car  marital_status  child  \\\n",
       "507               36.65        7.20    0    1    1               0      0   \n",
       "508                4.66        8.23    0    1    1               0      3   \n",
       "509               42.89        7.19    0    1    0               1      0   \n",
       "510               29.51        5.05    0    1    0               1      2   \n",
       "511               22.89        5.28    1    0    1               0      2   \n",
       "\n",
       "     citizenthip  \n",
       "507            0  \n",
       "508            3  \n",
       "509            3  \n",
       "510            6  \n",
       "511            4  "
      ]
     },
     "metadata": {},
     "execution_count": 123
    }
   ],
   "metadata": {}
  },
  {
   "cell_type": "code",
   "execution_count": 124,
   "source": [
    "print(\"citizenthip\")\r\n",
    "print(df['citizenthip'].unique())"
   ],
   "outputs": [
    {
     "output_type": "stream",
     "name": "stdout",
     "text": [
      "citizenthip\n",
      "[3 4 1 6 5 2 0]\n"
     ]
    }
   ],
   "metadata": {}
  },
  {
   "cell_type": "code",
   "execution_count": 125,
   "source": [
    "df.info()"
   ],
   "outputs": [
    {
     "output_type": "stream",
     "name": "stdout",
     "text": [
      "<class 'pandas.core.frame.DataFrame'>\n",
      "RangeIndex: 512 entries, 0 to 511\n",
      "Data columns (total 8 columns):\n",
      " #   Column              Non-Null Count  Dtype  \n",
      "---  ------              --------------  -----  \n",
      " 0   total_utility_bill  512 non-null    float64\n",
      " 1   commission          512 non-null    float64\n",
      " 2   sex                 512 non-null    int64  \n",
      " 3   age                 512 non-null    int64  \n",
      " 4   car                 512 non-null    int64  \n",
      " 5   marital_status      512 non-null    int64  \n",
      " 6   child               512 non-null    int64  \n",
      " 7   citizenthip         512 non-null    int64  \n",
      "dtypes: float64(2), int64(6)\n",
      "memory usage: 32.1 KB\n"
     ]
    }
   ],
   "metadata": {}
  },
  {
   "cell_type": "code",
   "execution_count": 126,
   "source": [
    "df.describe()"
   ],
   "outputs": [
    {
     "output_type": "execute_result",
     "data": {
      "text/html": [
       "<div>\n",
       "<style scoped>\n",
       "    .dataframe tbody tr th:only-of-type {\n",
       "        vertical-align: middle;\n",
       "    }\n",
       "\n",
       "    .dataframe tbody tr th {\n",
       "        vertical-align: top;\n",
       "    }\n",
       "\n",
       "    .dataframe thead th {\n",
       "        text-align: right;\n",
       "    }\n",
       "</style>\n",
       "<table border=\"1\" class=\"dataframe\">\n",
       "  <thead>\n",
       "    <tr style=\"text-align: right;\">\n",
       "      <th></th>\n",
       "      <th>total_utility_bill</th>\n",
       "      <th>commission</th>\n",
       "      <th>sex</th>\n",
       "      <th>age</th>\n",
       "      <th>car</th>\n",
       "      <th>marital_status</th>\n",
       "      <th>child</th>\n",
       "      <th>citizenthip</th>\n",
       "    </tr>\n",
       "  </thead>\n",
       "  <tbody>\n",
       "    <tr>\n",
       "      <th>count</th>\n",
       "      <td>512.000000</td>\n",
       "      <td>512.000000</td>\n",
       "      <td>512.000000</td>\n",
       "      <td>512.000000</td>\n",
       "      <td>512.000000</td>\n",
       "      <td>512.000000</td>\n",
       "      <td>512.000000</td>\n",
       "      <td>512.000000</td>\n",
       "    </tr>\n",
       "    <tr>\n",
       "      <th>mean</th>\n",
       "      <td>25.532949</td>\n",
       "      <td>5.560059</td>\n",
       "      <td>0.500000</td>\n",
       "      <td>0.527344</td>\n",
       "      <td>0.480469</td>\n",
       "      <td>0.488281</td>\n",
       "      <td>1.490234</td>\n",
       "      <td>3.091797</td>\n",
       "    </tr>\n",
       "    <tr>\n",
       "      <th>std</th>\n",
       "      <td>13.918736</td>\n",
       "      <td>2.567289</td>\n",
       "      <td>0.500489</td>\n",
       "      <td>0.499740</td>\n",
       "      <td>0.500107</td>\n",
       "      <td>0.500352</td>\n",
       "      <td>1.146723</td>\n",
       "      <td>1.957816</td>\n",
       "    </tr>\n",
       "    <tr>\n",
       "      <th>min</th>\n",
       "      <td>1.270000</td>\n",
       "      <td>1.020000</td>\n",
       "      <td>0.000000</td>\n",
       "      <td>0.000000</td>\n",
       "      <td>0.000000</td>\n",
       "      <td>0.000000</td>\n",
       "      <td>0.000000</td>\n",
       "      <td>0.000000</td>\n",
       "    </tr>\n",
       "    <tr>\n",
       "      <th>25%</th>\n",
       "      <td>14.012500</td>\n",
       "      <td>3.427500</td>\n",
       "      <td>0.000000</td>\n",
       "      <td>0.000000</td>\n",
       "      <td>0.000000</td>\n",
       "      <td>0.000000</td>\n",
       "      <td>0.000000</td>\n",
       "      <td>1.000000</td>\n",
       "    </tr>\n",
       "    <tr>\n",
       "      <th>50%</th>\n",
       "      <td>24.575000</td>\n",
       "      <td>5.455000</td>\n",
       "      <td>0.500000</td>\n",
       "      <td>1.000000</td>\n",
       "      <td>0.000000</td>\n",
       "      <td>0.000000</td>\n",
       "      <td>1.000000</td>\n",
       "      <td>3.000000</td>\n",
       "    </tr>\n",
       "    <tr>\n",
       "      <th>75%</th>\n",
       "      <td>36.962500</td>\n",
       "      <td>7.830000</td>\n",
       "      <td>1.000000</td>\n",
       "      <td>1.000000</td>\n",
       "      <td>1.000000</td>\n",
       "      <td>1.000000</td>\n",
       "      <td>3.000000</td>\n",
       "      <td>5.000000</td>\n",
       "    </tr>\n",
       "    <tr>\n",
       "      <th>max</th>\n",
       "      <td>49.920000</td>\n",
       "      <td>9.990000</td>\n",
       "      <td>1.000000</td>\n",
       "      <td>1.000000</td>\n",
       "      <td>1.000000</td>\n",
       "      <td>1.000000</td>\n",
       "      <td>3.000000</td>\n",
       "      <td>6.000000</td>\n",
       "    </tr>\n",
       "  </tbody>\n",
       "</table>\n",
       "</div>"
      ],
      "text/plain": [
       "       total_utility_bill  commission         sex         age         car  \\\n",
       "count          512.000000  512.000000  512.000000  512.000000  512.000000   \n",
       "mean            25.532949    5.560059    0.500000    0.527344    0.480469   \n",
       "std             13.918736    2.567289    0.500489    0.499740    0.500107   \n",
       "min              1.270000    1.020000    0.000000    0.000000    0.000000   \n",
       "25%             14.012500    3.427500    0.000000    0.000000    0.000000   \n",
       "50%             24.575000    5.455000    0.500000    1.000000    0.000000   \n",
       "75%             36.962500    7.830000    1.000000    1.000000    1.000000   \n",
       "max             49.920000    9.990000    1.000000    1.000000    1.000000   \n",
       "\n",
       "       marital_status       child  citizenthip  \n",
       "count      512.000000  512.000000   512.000000  \n",
       "mean         0.488281    1.490234     3.091797  \n",
       "std          0.500352    1.146723     1.957816  \n",
       "min          0.000000    0.000000     0.000000  \n",
       "25%          0.000000    0.000000     1.000000  \n",
       "50%          0.000000    1.000000     3.000000  \n",
       "75%          1.000000    3.000000     5.000000  \n",
       "max          1.000000    3.000000     6.000000  "
      ]
     },
     "metadata": {},
     "execution_count": 126
    }
   ],
   "metadata": {}
  },
  {
   "cell_type": "code",
   "execution_count": 127,
   "source": [
    "sns.FacetGrid(df, hue=\"citizenthip\", size=6) \\\r\n",
    "   .map(plt.scatter, \"total_utility_bill\", \"commission\") \\\r\n",
    "   .add_legend()\r\n",
    "\r\n",
    "plt.show()"
   ],
   "outputs": [
    {
     "output_type": "stream",
     "name": "stderr",
     "text": [
      "D:\\anaconda\\lib\\site-packages\\seaborn\\axisgrid.py:316: UserWarning: The `size` parameter has been renamed to `height`; please update your code.\n",
      "  warnings.warn(msg, UserWarning)\n"
     ]
    },
    {
     "output_type": "display_data",
     "data": {
      "image/png": "[encoded data removed]",
      "text/plain": [
       "<Figure size 492.125x432 with 1 Axes>"
      ]
     },
     "metadata": {
      "needs_background": "light"
     }
    }
   ],
   "metadata": {}
  },
  {
   "cell_type": "code",
   "execution_count": 135,
   "source": [
    "features = list(df.columns[1:7])            \t\r\n",
    "target = df.columns[7]                     \r\n",
    "\r\n",
    "print('Features:',features)\r\n",
    "print('Target:',target)\r\n",
    "\r\n",
    "# store feature matrix in \"X\"\r\n",
    "X = df.iloc[:,1:7]                         \r\n",
    "\r\n",
    "# store response vector in \"y\"\r\n",
    "y = df.iloc[:,7]                           \r\n",
    "\r\n",
    "\r\n",
    "print(y.shape)\r\n",
    "print(X.shape)"
   ],
   "outputs": [
    {
     "output_type": "stream",
     "name": "stdout",
     "text": [
      "Features: ['commission', 'sex', 'age', 'car', 'marital_status', 'child']\n",
      "Target: citizenthip\n",
      "(512,)\n",
      "(512, 6)\n"
     ]
    }
   ],
   "metadata": {}
  },
  {
   "cell_type": "code",
   "execution_count": 136,
   "source": [
    "from sklearn import preprocessing\r\n",
    "le = preprocessing.LabelEncoder()\r\n",
    "le.fit(y)\r\n",
    "y=le.transform(y)\r\n",
    "\r\n",
    "\r\n",
    "df['Encodedcitizenthip'] = y\r\n",
    "\r\n",
    "print('Classes:',le.classes_)\r\n",
    "print('Response variable after encoding:',y)\r\n",
    "df.tail(10)"
   ],
   "outputs": [
    {
     "output_type": "stream",
     "name": "stdout",
     "text": [
      "Classes: [0 1 2 3 4 5 6]\n",
      "Response variable after encoding: [3 4 1 6 4 5 6 2 6 0 6 6 5 4 5 6 3 4 6 5 4 2 4 3 2 4 2 5 6 3 4 2 5 4 1 1 6\n",
      " 3 2 4 1 5 4 5 4 5 5 0 6 2 5 3 5 5 5 3 3 6 6 2 4 2 6 0 1 1 6 2 0 0 5 6 2 4\n",
      " 0 5 3 1 2 0 0 6 2 3 6 4 4 0 4 2 6 1 3 1 0 0 4 3 4 1 4 2 6 3 5 3 3 5 0 3 6\n",
      " 1 4 4 5 5 3 0 3 5 5 4 5 2 0 6 6 4 2 1 5 0 2 6 2 4 2 3 1 0 3 5 4 1 0 6 4 5\n",
      " 5 1 6 4 4 0 1 5 4 3 2 6 0 4 0 1 0 3 6 3 4 0 6 3 5 3 3 3 3 0 1 0 5 5 5 6 0\n",
      " 5 4 1 6 4 2 5 1 0 1 3 2 3 3 2 4 4 3 4 3 6 0 6 0 2 0 4 1 2 0 4 5 5 6 5 3 2\n",
      " 5 2 1 1 6 2 0 0 1 0 6 0 2 4 5 5 4 1 4 5 5 3 2 3 2 5 3 4 0 0 1 1 5 4 0 3 6\n",
      " 1 5 3 3 3 0 6 6 6 2 3 3 1 3 2 5 1 5 4 6 6 4 6 4 3 2 5 1 2 4 1 5 4 3 5 5 0\n",
      " 5 1 2 0 3 0 2 6 1 6 0 5 5 3 1 1 4 0 4 5 4 5 3 1 6 3 0 1 1 6 2 4 1 3 0 3 3\n",
      " 5 4 4 5 3 6 4 5 5 3 6 0 2 2 2 5 1 5 0 1 1 3 3 5 5 5 0 1 6 0 1 2 3 6 2 5 5\n",
      " 5 6 5 5 2 2 0 5 1 6 1 3 5 4 3 6 4 5 3 6 0 6 4 1 3 1 4 4 2 4 1 3 3 0 4 4 3\n",
      " 5 0 3 2 3 1 0 1 1 4 0 1 4 3 5 5 1 3 0 2 3 6 5 6 2 1 1 5 6 4 0 2 4 2 0 0 4\n",
      " 3 3 5 3 1 2 5 2 1 1 5 6 0 3 4 3 2 1 1 2 1 4 0 0 6 0 3 2 0 5 0 4 3 3 3 5 5\n",
      " 6 1 1 3 3 1 3 2 3 6 0 5 5 5 5 1 6 1 4 5 4 1 1 6 2 4 0 3 3 6 4]\n"
     ]
    },
    {
     "output_type": "execute_result",
     "data": {
      "text/html": [
       "<div>\n",
       "<style scoped>\n",
       "    .dataframe tbody tr th:only-of-type {\n",
       "        vertical-align: middle;\n",
       "    }\n",
       "\n",
       "    .dataframe tbody tr th {\n",
       "        vertical-align: top;\n",
       "    }\n",
       "\n",
       "    .dataframe thead th {\n",
       "        text-align: right;\n",
       "    }\n",
       "</style>\n",
       "<table border=\"1\" class=\"dataframe\">\n",
       "  <thead>\n",
       "    <tr style=\"text-align: right;\">\n",
       "      <th></th>\n",
       "      <th>total_utility_bill</th>\n",
       "      <th>commission</th>\n",
       "      <th>sex</th>\n",
       "      <th>age</th>\n",
       "      <th>car</th>\n",
       "      <th>marital_status</th>\n",
       "      <th>child</th>\n",
       "      <th>citizenthip</th>\n",
       "      <th>Encodedcitizenthip</th>\n",
       "    </tr>\n",
       "  </thead>\n",
       "  <tbody>\n",
       "    <tr>\n",
       "      <th>502</th>\n",
       "      <td>33.91</td>\n",
       "      <td>2.31</td>\n",
       "      <td>1</td>\n",
       "      <td>0</td>\n",
       "      <td>1</td>\n",
       "      <td>0</td>\n",
       "      <td>1</td>\n",
       "      <td>1</td>\n",
       "      <td>1</td>\n",
       "    </tr>\n",
       "    <tr>\n",
       "      <th>503</th>\n",
       "      <td>24.51</td>\n",
       "      <td>4.96</td>\n",
       "      <td>0</td>\n",
       "      <td>1</td>\n",
       "      <td>0</td>\n",
       "      <td>0</td>\n",
       "      <td>1</td>\n",
       "      <td>1</td>\n",
       "      <td>1</td>\n",
       "    </tr>\n",
       "    <tr>\n",
       "      <th>504</th>\n",
       "      <td>48.61</td>\n",
       "      <td>9.04</td>\n",
       "      <td>1</td>\n",
       "      <td>0</td>\n",
       "      <td>0</td>\n",
       "      <td>1</td>\n",
       "      <td>3</td>\n",
       "      <td>6</td>\n",
       "      <td>6</td>\n",
       "    </tr>\n",
       "    <tr>\n",
       "      <th>505</th>\n",
       "      <td>22.72</td>\n",
       "      <td>4.93</td>\n",
       "      <td>1</td>\n",
       "      <td>0</td>\n",
       "      <td>1</td>\n",
       "      <td>0</td>\n",
       "      <td>0</td>\n",
       "      <td>2</td>\n",
       "      <td>2</td>\n",
       "    </tr>\n",
       "    <tr>\n",
       "      <th>506</th>\n",
       "      <td>14.70</td>\n",
       "      <td>9.94</td>\n",
       "      <td>0</td>\n",
       "      <td>0</td>\n",
       "      <td>0</td>\n",
       "      <td>1</td>\n",
       "      <td>3</td>\n",
       "      <td>4</td>\n",
       "      <td>4</td>\n",
       "    </tr>\n",
       "    <tr>\n",
       "      <th>507</th>\n",
       "      <td>36.65</td>\n",
       "      <td>7.20</td>\n",
       "      <td>0</td>\n",
       "      <td>1</td>\n",
       "      <td>1</td>\n",
       "      <td>0</td>\n",
       "      <td>0</td>\n",
       "      <td>0</td>\n",
       "      <td>0</td>\n",
       "    </tr>\n",
       "    <tr>\n",
       "      <th>508</th>\n",
       "      <td>4.66</td>\n",
       "      <td>8.23</td>\n",
       "      <td>0</td>\n",
       "      <td>1</td>\n",
       "      <td>1</td>\n",
       "      <td>0</td>\n",
       "      <td>3</td>\n",
       "      <td>3</td>\n",
       "      <td>3</td>\n",
       "    </tr>\n",
       "    <tr>\n",
       "      <th>509</th>\n",
       "      <td>42.89</td>\n",
       "      <td>7.19</td>\n",
       "      <td>0</td>\n",
       "      <td>1</td>\n",
       "      <td>0</td>\n",
       "      <td>1</td>\n",
       "      <td>0</td>\n",
       "      <td>3</td>\n",
       "      <td>3</td>\n",
       "    </tr>\n",
       "    <tr>\n",
       "      <th>510</th>\n",
       "      <td>29.51</td>\n",
       "      <td>5.05</td>\n",
       "      <td>0</td>\n",
       "      <td>1</td>\n",
       "      <td>0</td>\n",
       "      <td>1</td>\n",
       "      <td>2</td>\n",
       "      <td>6</td>\n",
       "      <td>6</td>\n",
       "    </tr>\n",
       "    <tr>\n",
       "      <th>511</th>\n",
       "      <td>22.89</td>\n",
       "      <td>5.28</td>\n",
       "      <td>1</td>\n",
       "      <td>0</td>\n",
       "      <td>1</td>\n",
       "      <td>0</td>\n",
       "      <td>2</td>\n",
       "      <td>4</td>\n",
       "      <td>4</td>\n",
       "    </tr>\n",
       "  </tbody>\n",
       "</table>\n",
       "</div>"
      ],
      "text/plain": [
       "     total_utility_bill  commission  sex  age  car  marital_status  child  \\\n",
       "502               33.91        2.31    1    0    1               0      1   \n",
       "503               24.51        4.96    0    1    0               0      1   \n",
       "504               48.61        9.04    1    0    0               1      3   \n",
       "505               22.72        4.93    1    0    1               0      0   \n",
       "506               14.70        9.94    0    0    0               1      3   \n",
       "507               36.65        7.20    0    1    1               0      0   \n",
       "508                4.66        8.23    0    1    1               0      3   \n",
       "509               42.89        7.19    0    1    0               1      0   \n",
       "510               29.51        5.05    0    1    0               1      2   \n",
       "511               22.89        5.28    1    0    1               0      2   \n",
       "\n",
       "     citizenthip  Encodedcitizenthip  \n",
       "502            1                   1  \n",
       "503            1                   1  \n",
       "504            6                   6  \n",
       "505            2                   2  \n",
       "506            4                   4  \n",
       "507            0                   0  \n",
       "508            3                   3  \n",
       "509            3                   3  \n",
       "510            6                   6  \n",
       "511            4                   4  "
      ]
     },
     "metadata": {},
     "execution_count": 136
    }
   ],
   "metadata": {}
  },
  {
   "cell_type": "code",
   "execution_count": 137,
   "source": [
    "from sklearn.neighbors import KNeighborsClassifier\r\n",
    "knn = KNeighborsClassifier(n_neighbors=1)\r\n",
    "knn.fit(X, y)"
   ],
   "outputs": [
    {
     "output_type": "execute_result",
     "data": {
      "text/plain": [
       "KNeighborsClassifier(n_neighbors=1)"
      ]
     },
     "metadata": {},
     "execution_count": 137
    }
   ],
   "metadata": {}
  },
  {
   "cell_type": "code",
   "execution_count": 140,
   "source": [
    "value = knn.predict([[3, 5, 6, 4, 2, 1]])\r\n",
    "print('prediction value:',value)\r\n",
    "\r\n",
    "print('Predicted Class', df.loc[df['Encodedcitizenthip'] == 2, 'citizenthip'].values[0])"
   ],
   "outputs": [
    {
     "output_type": "stream",
     "name": "stdout",
     "text": [
      "prediction value: [2]\n",
      "Predicted Class 2\n"
     ]
    }
   ],
   "metadata": {}
  },
  {
   "cell_type": "code",
   "execution_count": 141,
   "source": [
    "X_new = [[3, 5, 6, 4, 2, 1], [6, 5, 4, 3, 2, 1]]                       \r\n",
    "knn.predict(X_new)"
   ],
   "outputs": [
    {
     "output_type": "execute_result",
     "data": {
      "text/plain": [
       "array([2, 1], dtype=int64)"
      ]
     },
     "metadata": {},
     "execution_count": 141
    }
   ],
   "metadata": {}
  },
  {
   "cell_type": "code",
   "execution_count": 142,
   "source": [
    "knn = KNeighborsClassifier(n_neighbors=5)\r\n",
    "knn.fit(X, y)\r\n",
    "\r\n",
    "print(knn.predict(X_new))\r\n",
    "\r\n",
    "kypred = knn.predict(X)"
   ],
   "outputs": [
    {
     "output_type": "stream",
     "name": "stdout",
     "text": [
      "[2 1]\n"
     ]
    }
   ],
   "metadata": {}
  },
  {
   "cell_type": "code",
   "execution_count": 143,
   "source": [
    "from sklearn import metrics\r\n",
    "v=[]\r\n",
    "\r\n",
    "k_range = list(range(1, 50))\r\n",
    "for i in k_range:\r\n",
    "    knn = KNeighborsClassifier(n_neighbors=i)\r\n",
    "    # fit the model with data\r\n",
    "    knn.fit(X, y)\r\n",
    "    k_pred = knn.predict(X)\r\n",
    "    v.append( metrics.accuracy_score(y, k_pred))\r\n",
    "\r\n",
    "\r\n",
    "import matplotlib.pyplot as plt\r\n",
    "plt.plot(k_range,v,c='Green',)\r\n",
    "plt.show()"
   ],
   "outputs": [
    {
     "output_type": "display_data",
     "data": {
      "image/png": "[encoded data removed]",
      "text/plain": [
       "<Figure size 432x288 with 1 Axes>"
      ]
     },
     "metadata": {
      "needs_background": "light"
     }
    }
   ],
   "metadata": {}
  },
  {
   "cell_type": "code",
   "execution_count": 144,
   "source": [
    "from sklearn import metrics\r\n",
    "print(metrics.accuracy_score(y, kypred))"
   ],
   "outputs": [
    {
     "output_type": "stream",
     "name": "stdout",
     "text": [
      "0.35546875\n"
     ]
    }
   ],
   "metadata": {}
  },
  {
   "cell_type": "code",
   "execution_count": 145,
   "source": [
    "from sklearn.model_selection import train_test_split\r\n",
    "X_train, X_test, y_train, y_test = train_test_split(X, y, test_size=0.4, random_state=4)"
   ],
   "outputs": [],
   "metadata": {}
  },
  {
   "cell_type": "code",
   "execution_count": 146,
   "source": [
    "print(X_train.shape)\r\n",
    "print(y_train.shape)"
   ],
   "outputs": [
    {
     "output_type": "stream",
     "name": "stdout",
     "text": [
      "(307, 6)\n",
      "(307,)\n"
     ]
    }
   ],
   "metadata": {}
  },
  {
   "cell_type": "code",
   "execution_count": 147,
   "source": [
    "knn = KNeighborsClassifier(n_neighbors=12)\r\n",
    "# fit the model with data\r\n",
    "knn.fit(X_train, y_train)\r\n",
    "k_pred = knn.predict(X_test)\r\n",
    "\r\n",
    "metrics.accuracy_score(y_test, k_pred)"
   ],
   "outputs": [
    {
     "output_type": "execute_result",
     "data": {
      "text/plain": [
       "0.13658536585365855"
      ]
     },
     "metadata": {},
     "execution_count": 147
    }
   ],
   "metadata": {}
  },
  {
   "cell_type": "code",
   "execution_count": 148,
   "source": [
    "from sklearn import metrics\r\n",
    "v=[]\r\n",
    "\r\n",
    "\r\n",
    "k_range = list(range(1, 50))\r\n",
    "for i in k_range:\r\n",
    "    knn = KNeighborsClassifier(n_neighbors=i)\r\n",
    "    # fit the model with data\r\n",
    "    knn.fit(X_train, y_train)\r\n",
    "    k_pred = knn.predict(X_test)\r\n",
    "    v.append( metrics.accuracy_score(y_test, k_pred))\r\n",
    "\r\n",
    "\r\n",
    "\r\n",
    "import matplotlib.pyplot as plt\r\n",
    "plt.plot(k_range,v)\r\n",
    "\r\n",
    "plt.show()"
   ],
   "outputs": [
    {
     "output_type": "display_data",
     "data": {
      "image/png": "[encoded data removed]",
      "text/plain": [
       "<Figure size 432x288 with 1 Axes>"
      ]
     },
     "metadata": {
      "needs_background": "light"
     }
    }
   ],
   "metadata": {}
  }
 ],
 "metadata": {
  "orig_nbformat": 4,
  "language_info": {
   "name": "python",
   "version": "3.8.8",
   "mimetype": "text/x-python",
   "codemirror_mode": {
    "name": "ipython",
    "version": 3
   },
   "pygments_lexer": "ipython3",
   "nbconvert_exporter": "python",
   "file_extension": ".py"
  },
  "kernelspec": {
   "name": "python3",
   "display_name": "Python 3.8.8 64-bit ('base': conda)"
  },
  "interpreter": {
   "hash": "cc5f70855ac006f3de45a3cc3b9e7d8d53845e50458809cb162b0174266dec97"
  }
 },
 "nbformat": 4,
 "nbformat_minor": 2
}