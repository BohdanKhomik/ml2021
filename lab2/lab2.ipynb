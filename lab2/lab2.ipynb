{
 "cells": [
  {
   "cell_type": "markdown",
   "source": [
    "#Лабораторна робота 2\r\n",
    "###Студента групи МІТ-31 (підгрупа 2)\r\n",
    "###Хоміка Богдана Сергійовича\r\n",
    "\r\n",
    "##Завдання\r\n",
    "1. Створити набір даних за допомогою DatasetGenerator\r\n",
    "2. Завантажити набір даних для регресії на сайті (у кожного студента має бути інший - прошу організуватись відповідним чином)\r\n",
    "3. (опціонально для отримання відмінної оцінки) Згенерувати набір даних для регресії на основі звичайних можливостей Python.\r\n",
    "4. Для отриманих наборів даних провести встановленні кроки моделювання.\r\n",
    "5. Отримані результати викласти на github у репозиторій ml2021 в основну (default) гілку в папці Lab2.\r\n",
    "\r\n",
    "###Пункт 4 я виконував в усіх пунктах почергово, його не відзначав"
   ],
   "metadata": {}
  },
  {
   "cell_type": "code",
   "execution_count": 34,
   "source": [
    "import pandas as pd\r\n",
    "import numpy as np\r\n",
    "import matplotlib.pyplot as plt\r\n",
    "import seaborn as sns\r\n",
    "from sklearn.datasets import make_regression"
   ],
   "outputs": [],
   "metadata": {}
  },
  {
   "cell_type": "markdown",
   "source": [
    "###Пункт 1"
   ],
   "metadata": {}
  },
  {
   "cell_type": "code",
   "execution_count": 197,
   "source": [
    "X, y = make_regression(n_samples=512, n_features=10, n_informative=512, n_targets=1,  noise=0.0, shuffle=True, coef=False, random_state=None)\r\n",
    "\r\n",
    "print(X,y)"
   ],
   "outputs": [
    {
     "output_type": "stream",
     "name": "stdout",
     "text": [
      "[[ 0.23002945  1.36037858 -0.1217931  ... -0.25186085 -1.07365873\n",
      "  -1.16580657]\n",
      " [ 0.76176884  1.92997148  1.92319941 ... -0.27288357  0.35700459\n",
      "   0.89950334]\n",
      " [-1.50869899  1.07654876 -0.048011   ...  0.86545443  1.57036735\n",
      "  -2.43735957]\n",
      " ...\n",
      " [ 0.19631402 -0.87311898  1.06850851 ...  0.91933428  1.26988312\n",
      "   0.63390236]\n",
      " [-1.56108444  0.83628008  2.52652135 ... -1.55596814  0.98131833\n",
      "  -1.27895645]\n",
      " [-0.48979886  0.31976149 -0.99006597 ... -0.62075956  0.36070316\n",
      "   1.101974  ]] [  56.8284027   507.91124242 -130.25444955  -71.91142453 -126.77620947\n",
      "   13.83918735   92.41677569  182.07260242  -57.58956637  145.48346605\n",
      "   48.34193849 -228.13411344  -12.79551918  149.43740374  -70.77026519\n",
      " -105.84404274 -152.98378579 -173.72802584  -76.35615374 -105.63970644\n",
      "  161.37459098 -162.4606457   -19.50088815 -152.7071205   189.5325303\n",
      " -277.60181458 -221.36522216 -415.79085021  213.15216114 -115.43594141\n",
      " -278.74205172 -116.97967301  121.7102148   -19.31069709  -38.28607879\n",
      "   77.42310922  -88.86871472   -1.53169006 -232.0788081   133.97373413\n",
      "   32.99871996  172.35084312 -149.36481246  -47.56018077 -124.19060356\n",
      "   70.40525449  146.48921582  -43.53982259 -112.62805515 -176.54387034\n",
      " -110.43608398 -288.46387105 -111.31190865  486.53516242 -127.66717867\n",
      " -330.40249389 -127.40499245  116.05518756  461.42616139   44.82981825\n",
      " -518.27465229 -225.89777352  195.65338533 -265.80694745  121.39822675\n",
      "  193.0489205  -132.39470353   89.9868768   252.35515798   90.84978838\n",
      " -106.60317246 -223.81583326 -112.53259528   38.81102235 -330.24881227\n",
      "   34.50666131  275.89848788  -44.21165009  -52.09620668 -198.28917232\n",
      "  -17.76777853  169.22633632  348.74570079 -204.29206238  133.29536199\n",
      "  -41.0880538   287.49575338  115.11972905   90.66314412  440.12690562\n",
      "   88.11081032  289.95963587 -347.21481743   73.24725497  -78.3535493\n",
      " -492.63684167  -59.03395491  103.57281657  370.56856288  384.76819209\n",
      "  -84.64786504  327.48848799  -25.46057504  306.61460663  -98.89811893\n",
      "  218.49624631 -250.83410026   63.51696449 -374.80432997  141.86572475\n",
      " -368.72541999   69.74355269  -72.96525824   16.38335673  -28.90463529\n",
      "  -28.45233208  278.29701568  -21.47860888 -386.13275002   -6.76380832\n",
      "  113.4460088  -213.19732302 -335.97887391   75.93012334 -167.92756877\n",
      "  426.01396206  113.5067557   423.76019249 -116.61185526  205.02440608\n",
      "   -5.16846106  -31.95607548    7.45643067    5.41173542  148.06471589\n",
      "  301.37075857 -264.59182901 -192.67804267 -182.20615575   30.31480972\n",
      "  -56.42138397  204.92088744 -129.12742299   58.07865326  253.78358787\n",
      " -169.07987318    3.15782458  191.67150066  316.55884163  108.93564271\n",
      " -354.04972757  -84.83564835   45.3436262    17.57759278   94.57300604\n",
      "  -48.12725217  343.06081482 -162.78637932 -148.25962468  344.10039443\n",
      "  525.95574171 -357.52896397  -32.36769345  348.36430077 -226.11853096\n",
      "   40.26294344  -37.55554773  240.81711442 -621.29082038  148.75034567\n",
      " -250.59638243 -211.90790642 -105.24639273 -157.74866808  263.60302049\n",
      "   72.91651134   53.65595817  279.07210279  -34.91812417    6.3637688\n",
      "  -32.95825934  -66.52383252  331.79281291 -391.67699675  210.45044447\n",
      "   68.02869478  -29.63129844  213.04433901   88.19680935  -89.32561469\n",
      "  312.56458803    7.31452915  211.1582082  -617.24498267  218.0534162\n",
      "  -62.47769828   80.19173398 -332.62312194  147.42213032 -368.98836863\n",
      "  -83.96030306 -192.19554574  -18.84480786 -336.06093528 -201.42662024\n",
      "   87.93936607 -173.47162794 -167.43234632 -298.19022976 -349.11591655\n",
      " -159.49315165 -278.98901367  188.12082353 -320.38598797 -332.30138072\n",
      "  235.49998701  -53.70994488 -283.31178876   25.78502603 -133.26324712\n",
      "  188.2902712   111.59953359  182.43327861 -117.60950888 -404.21209341\n",
      "   52.48828852  343.89037452 -164.43275541 -356.40847659  147.51859038\n",
      "  211.19107267  244.18256457 -229.54270143 -495.44563388   30.67093698\n",
      "  -83.06673004  411.96781755 -252.37295785  212.7232431  -188.30234331\n",
      "  124.88708131 -473.55226772  -44.84105055  232.16156137  -79.17079348\n",
      "  -49.81220195  470.93338036  215.98420547 -196.33649288  -28.49535012\n",
      " -126.09231654  -94.92042995  147.92027488 -147.91473113 -149.08083792\n",
      "   -1.05592703  -82.83708078 -247.63919341 -308.79021533   17.35122754\n",
      " -248.18137654   76.88590585  426.52118095  153.64101995  -87.08918132\n",
      "  331.58333087  327.53667825 -210.86910572  297.6093647  -310.78991116\n",
      "   17.02960784  314.3860433  -210.30244073  166.82344375  242.62443738\n",
      "   84.54948493  160.1393888     8.24280083 -120.91433945 -455.27149336\n",
      "  301.54050665 -165.56131347  116.35426883  130.14750678 -126.9814789\n",
      "  148.16357546 -160.49567618  164.64926566  227.25768153 -295.94614696\n",
      "  -80.37715617   38.00253759 -171.43902178  110.97966094  609.30564319\n",
      "  209.8911034    71.9240496  -184.94971551  151.13172301   70.68434174\n",
      "  308.30142921  231.38339281  441.95612438  101.8965915   -89.76708516\n",
      "  -49.48904257 -262.48707533  433.26396666 -132.42953745   71.54479273\n",
      "  356.07382867 -172.68174964  -71.06138997 -265.41824307  229.07335903\n",
      "   57.48404147 -266.04437821  -72.52179305 -311.64993327 -158.5831476\n",
      "  226.41690858  466.50262015   20.76740507  -53.35541582   21.89610979\n",
      "  299.81090921  179.43505475 -159.89947303  -37.74794698 -204.20380871\n",
      " -211.96724967 -210.54182968 -355.12532945 -142.71306933  167.69536801\n",
      " -138.92524179 -217.69750204  208.64484243   35.77188064  -49.62688742\n",
      "  -62.08281668 -122.20612764 -260.66392389   39.11200677   26.72185201\n",
      "    0.6549134  -126.42471198  363.4087986    66.47920568 -301.95682359\n",
      " -145.35138691  -97.64311004  143.84210945  139.74460077  558.90983499\n",
      "  -27.3404568    17.55815429 -304.26557218 -174.61608355  -32.52986084\n",
      "   65.00629288  165.59060606 -297.46345874 -358.23318022  117.31238224\n",
      " -245.56578923  -21.15711726  299.03394771 -148.61935215 -129.66552528\n",
      "    8.08690903 -246.15958618  245.71537076  210.02091018  280.99994845\n",
      "  -60.60759437  468.90545729  -60.44809764  275.77135855  -78.64216813\n",
      "  -45.91619434 -233.7424293    28.26469287   34.35113578  270.48385972\n",
      " -213.60865879  128.00249557 -144.58577139 -207.82237538 -201.78872047\n",
      "  166.07600013    9.59620817   91.19726358   42.64082619    3.34916698\n",
      "   39.61631361  322.01739713  123.81649498 -210.46477274 -188.26047246\n",
      "  212.43869959   73.60721256  158.91196854 -203.81918953   34.15284454\n",
      "  171.88253482 -219.47296713   13.53185989 -447.76184794    3.53012426\n",
      "   95.08329235 -140.60230727   43.39744353   74.06060885  213.72362941\n",
      "  234.09190213    5.72446806  447.55316473  -72.98206364  -34.70597673\n",
      "  -50.09183953  -45.69253283 -244.89305554 -129.70527259 -299.8843139\n",
      "  196.99651324  293.94845408   -3.65464276   -1.95311278  143.23692085\n",
      "  -67.273694   -313.70884148  -18.07985672  -74.87930688    7.11209126\n",
      " -154.48541276   40.02174104 -235.28359489  132.22738339 -111.1400389\n",
      "  223.38126993   70.32472576  135.47960055 -276.91882282  119.56545012\n",
      "   30.29683589  378.2002893  -165.24175915   36.4983782   152.95086877\n",
      "  -43.85633964   34.66202114   66.1738837    70.11014908  186.05871311\n",
      "  -37.86264265 -243.54907861   61.95279672  117.23451449 -181.353243\n",
      "  219.27461478  426.89771424  228.9449251   419.27040631  128.36225088\n",
      "  202.267868    -69.47632493  306.70090449  153.52658088 -100.88947703\n",
      "  -56.60665541   75.9077964   477.17957186 -174.87530326 -264.89134351\n",
      "  -75.84380802 -173.97250399  -17.54268815  -53.57030858   56.27548416\n",
      "  -80.22299643  -93.31828039 -106.48287727  521.67027802  148.69647163\n",
      " -231.97251257  -32.2136242    44.3287767   246.69582777 -148.7448544\n",
      "  113.06726617  112.62429594   22.94539419 -194.44988408  378.39144607\n",
      "  -71.64879375 -157.92966792   51.46114752  377.81402774 -205.68873996\n",
      "  383.45063944 -101.82170644 -349.05851916 -358.21692938  138.70187824\n",
      "  144.65204376   38.70762752  116.54576318 -275.6533035   372.70557716\n",
      "  230.45838998 -110.10980412]\n"
     ]
    }
   ],
   "metadata": {}
  },
  {
   "cell_type": "code",
   "execution_count": 198,
   "source": [
    "df = pd.DataFrame(X, y)\r\n",
    "df.to_csv('sklearn_data_set.csv')\r\n",
    "df.head()"
   ],
   "outputs": [
    {
     "output_type": "execute_result",
     "data": {
      "text/html": [
       "<div>\n",
       "<style scoped>\n",
       "    .dataframe tbody tr th:only-of-type {\n",
       "        vertical-align: middle;\n",
       "    }\n",
       "\n",
       "    .dataframe tbody tr th {\n",
       "        vertical-align: top;\n",
       "    }\n",
       "\n",
       "    .dataframe thead th {\n",
       "        text-align: right;\n",
       "    }\n",
       "</style>\n",
       "<table border=\"1\" class=\"dataframe\">\n",
       "  <thead>\n",
       "    <tr style=\"text-align: right;\">\n",
       "      <th></th>\n",
       "      <th>0</th>\n",
       "      <th>1</th>\n",
       "      <th>2</th>\n",
       "      <th>3</th>\n",
       "      <th>4</th>\n",
       "      <th>5</th>\n",
       "      <th>6</th>\n",
       "      <th>7</th>\n",
       "      <th>8</th>\n",
       "      <th>9</th>\n",
       "    </tr>\n",
       "  </thead>\n",
       "  <tbody>\n",
       "    <tr>\n",
       "      <th>56.828403</th>\n",
       "      <td>0.230029</td>\n",
       "      <td>1.360379</td>\n",
       "      <td>-0.121793</td>\n",
       "      <td>-0.344530</td>\n",
       "      <td>0.742667</td>\n",
       "      <td>2.637577</td>\n",
       "      <td>-0.746919</td>\n",
       "      <td>-0.251861</td>\n",
       "      <td>-1.073659</td>\n",
       "      <td>-1.165807</td>\n",
       "    </tr>\n",
       "    <tr>\n",
       "      <th>507.911242</th>\n",
       "      <td>0.761769</td>\n",
       "      <td>1.929971</td>\n",
       "      <td>1.923199</td>\n",
       "      <td>0.480996</td>\n",
       "      <td>-0.058139</td>\n",
       "      <td>0.684992</td>\n",
       "      <td>1.950806</td>\n",
       "      <td>-0.272884</td>\n",
       "      <td>0.357005</td>\n",
       "      <td>0.899503</td>\n",
       "    </tr>\n",
       "    <tr>\n",
       "      <th>-130.254450</th>\n",
       "      <td>-1.508699</td>\n",
       "      <td>1.076549</td>\n",
       "      <td>-0.048011</td>\n",
       "      <td>-1.091491</td>\n",
       "      <td>-1.121034</td>\n",
       "      <td>1.918504</td>\n",
       "      <td>0.145865</td>\n",
       "      <td>0.865454</td>\n",
       "      <td>1.570367</td>\n",
       "      <td>-2.437360</td>\n",
       "    </tr>\n",
       "    <tr>\n",
       "      <th>-71.911425</th>\n",
       "      <td>0.214627</td>\n",
       "      <td>0.137482</td>\n",
       "      <td>-0.284049</td>\n",
       "      <td>-0.172506</td>\n",
       "      <td>-0.064090</td>\n",
       "      <td>-0.691485</td>\n",
       "      <td>0.285829</td>\n",
       "      <td>-0.512470</td>\n",
       "      <td>0.037053</td>\n",
       "      <td>-0.600972</td>\n",
       "    </tr>\n",
       "    <tr>\n",
       "      <th>-126.776209</th>\n",
       "      <td>0.254304</td>\n",
       "      <td>-0.217783</td>\n",
       "      <td>1.147002</td>\n",
       "      <td>-1.575500</td>\n",
       "      <td>-1.565190</td>\n",
       "      <td>0.688257</td>\n",
       "      <td>-1.076561</td>\n",
       "      <td>-0.264765</td>\n",
       "      <td>0.159708</td>\n",
       "      <td>-0.092745</td>\n",
       "    </tr>\n",
       "  </tbody>\n",
       "</table>\n",
       "</div>"
      ],
      "text/plain": [
       "                    0         1         2         3         4         5  \\\n",
       " 56.828403   0.230029  1.360379 -0.121793 -0.344530  0.742667  2.637577   \n",
       " 507.911242  0.761769  1.929971  1.923199  0.480996 -0.058139  0.684992   \n",
       "-130.254450 -1.508699  1.076549 -0.048011 -1.091491 -1.121034  1.918504   \n",
       "-71.911425   0.214627  0.137482 -0.284049 -0.172506 -0.064090 -0.691485   \n",
       "-126.776209  0.254304 -0.217783  1.147002 -1.575500 -1.565190  0.688257   \n",
       "\n",
       "                    6         7         8         9  \n",
       " 56.828403  -0.746919 -0.251861 -1.073659 -1.165807  \n",
       " 507.911242  1.950806 -0.272884  0.357005  0.899503  \n",
       "-130.254450  0.145865  0.865454  1.570367 -2.437360  \n",
       "-71.911425   0.285829 -0.512470  0.037053 -0.600972  \n",
       "-126.776209 -1.076561 -0.264765  0.159708 -0.092745  "
      ]
     },
     "metadata": {},
     "execution_count": 198
    }
   ],
   "metadata": {}
  },
  {
   "cell_type": "code",
   "execution_count": 199,
   "source": [
    "df.info()"
   ],
   "outputs": [
    {
     "output_type": "stream",
     "name": "stdout",
     "text": [
      "<class 'pandas.core.frame.DataFrame'>\n",
      "Float64Index: 512 entries, 56.828402700241945 to -110.1098041236776\n",
      "Data columns (total 10 columns):\n",
      " #   Column  Non-Null Count  Dtype  \n",
      "---  ------  --------------  -----  \n",
      " 0   0       512 non-null    float64\n",
      " 1   1       512 non-null    float64\n",
      " 2   2       512 non-null    float64\n",
      " 3   3       512 non-null    float64\n",
      " 4   4       512 non-null    float64\n",
      " 5   5       512 non-null    float64\n",
      " 6   6       512 non-null    float64\n",
      " 7   7       512 non-null    float64\n",
      " 8   8       512 non-null    float64\n",
      " 9   9       512 non-null    float64\n",
      "dtypes: float64(10)\n",
      "memory usage: 44.0 KB\n"
     ]
    }
   ],
   "metadata": {}
  },
  {
   "cell_type": "code",
   "execution_count": 200,
   "source": [
    "df.describe()"
   ],
   "outputs": [
    {
     "output_type": "execute_result",
     "data": {
      "text/html": [
       "<div>\n",
       "<style scoped>\n",
       "    .dataframe tbody tr th:only-of-type {\n",
       "        vertical-align: middle;\n",
       "    }\n",
       "\n",
       "    .dataframe tbody tr th {\n",
       "        vertical-align: top;\n",
       "    }\n",
       "\n",
       "    .dataframe thead th {\n",
       "        text-align: right;\n",
       "    }\n",
       "</style>\n",
       "<table border=\"1\" class=\"dataframe\">\n",
       "  <thead>\n",
       "    <tr style=\"text-align: right;\">\n",
       "      <th></th>\n",
       "      <th>0</th>\n",
       "      <th>1</th>\n",
       "      <th>2</th>\n",
       "      <th>3</th>\n",
       "      <th>4</th>\n",
       "      <th>5</th>\n",
       "      <th>6</th>\n",
       "      <th>7</th>\n",
       "      <th>8</th>\n",
       "      <th>9</th>\n",
       "    </tr>\n",
       "  </thead>\n",
       "  <tbody>\n",
       "    <tr>\n",
       "      <th>count</th>\n",
       "      <td>512.000000</td>\n",
       "      <td>512.000000</td>\n",
       "      <td>512.000000</td>\n",
       "      <td>512.000000</td>\n",
       "      <td>512.000000</td>\n",
       "      <td>512.000000</td>\n",
       "      <td>512.000000</td>\n",
       "      <td>512.000000</td>\n",
       "      <td>512.000000</td>\n",
       "      <td>512.000000</td>\n",
       "    </tr>\n",
       "    <tr>\n",
       "      <th>mean</th>\n",
       "      <td>0.022335</td>\n",
       "      <td>0.020465</td>\n",
       "      <td>0.018111</td>\n",
       "      <td>0.020803</td>\n",
       "      <td>-0.021275</td>\n",
       "      <td>-0.026805</td>\n",
       "      <td>0.010042</td>\n",
       "      <td>0.014112</td>\n",
       "      <td>-0.012998</td>\n",
       "      <td>0.001741</td>\n",
       "    </tr>\n",
       "    <tr>\n",
       "      <th>std</th>\n",
       "      <td>0.980966</td>\n",
       "      <td>1.005379</td>\n",
       "      <td>1.014884</td>\n",
       "      <td>0.972153</td>\n",
       "      <td>0.987663</td>\n",
       "      <td>0.987192</td>\n",
       "      <td>0.990000</td>\n",
       "      <td>1.049880</td>\n",
       "      <td>1.004741</td>\n",
       "      <td>1.039567</td>\n",
       "    </tr>\n",
       "    <tr>\n",
       "      <th>min</th>\n",
       "      <td>-3.522322</td>\n",
       "      <td>-2.764056</td>\n",
       "      <td>-3.141170</td>\n",
       "      <td>-2.782724</td>\n",
       "      <td>-2.591501</td>\n",
       "      <td>-2.716974</td>\n",
       "      <td>-3.131482</td>\n",
       "      <td>-3.605917</td>\n",
       "      <td>-2.685141</td>\n",
       "      <td>-3.146909</td>\n",
       "    </tr>\n",
       "    <tr>\n",
       "      <th>25%</th>\n",
       "      <td>-0.633734</td>\n",
       "      <td>-0.714209</td>\n",
       "      <td>-0.649417</td>\n",
       "      <td>-0.603630</td>\n",
       "      <td>-0.673922</td>\n",
       "      <td>-0.691813</td>\n",
       "      <td>-0.694042</td>\n",
       "      <td>-0.585510</td>\n",
       "      <td>-0.672587</td>\n",
       "      <td>-0.762916</td>\n",
       "    </tr>\n",
       "    <tr>\n",
       "      <th>50%</th>\n",
       "      <td>0.043537</td>\n",
       "      <td>0.006794</td>\n",
       "      <td>-0.009993</td>\n",
       "      <td>0.005134</td>\n",
       "      <td>-0.033617</td>\n",
       "      <td>-0.002693</td>\n",
       "      <td>0.034456</td>\n",
       "      <td>0.013235</td>\n",
       "      <td>-0.017411</td>\n",
       "      <td>-0.015816</td>\n",
       "    </tr>\n",
       "    <tr>\n",
       "      <th>75%</th>\n",
       "      <td>0.657382</td>\n",
       "      <td>0.698660</td>\n",
       "      <td>0.695629</td>\n",
       "      <td>0.675016</td>\n",
       "      <td>0.636845</td>\n",
       "      <td>0.617328</td>\n",
       "      <td>0.697401</td>\n",
       "      <td>0.732618</td>\n",
       "      <td>0.666117</td>\n",
       "      <td>0.649387</td>\n",
       "    </tr>\n",
       "    <tr>\n",
       "      <th>max</th>\n",
       "      <td>2.813843</td>\n",
       "      <td>2.779211</td>\n",
       "      <td>3.007843</td>\n",
       "      <td>2.804763</td>\n",
       "      <td>2.940576</td>\n",
       "      <td>2.879889</td>\n",
       "      <td>2.412066</td>\n",
       "      <td>3.016388</td>\n",
       "      <td>3.209550</td>\n",
       "      <td>2.948926</td>\n",
       "    </tr>\n",
       "  </tbody>\n",
       "</table>\n",
       "</div>"
      ],
      "text/plain": [
       "                0           1           2           3           4           5  \\\n",
       "count  512.000000  512.000000  512.000000  512.000000  512.000000  512.000000   \n",
       "mean     0.022335    0.020465    0.018111    0.020803   -0.021275   -0.026805   \n",
       "std      0.980966    1.005379    1.014884    0.972153    0.987663    0.987192   \n",
       "min     -3.522322   -2.764056   -3.141170   -2.782724   -2.591501   -2.716974   \n",
       "25%     -0.633734   -0.714209   -0.649417   -0.603630   -0.673922   -0.691813   \n",
       "50%      0.043537    0.006794   -0.009993    0.005134   -0.033617   -0.002693   \n",
       "75%      0.657382    0.698660    0.695629    0.675016    0.636845    0.617328   \n",
       "max      2.813843    2.779211    3.007843    2.804763    2.940576    2.879889   \n",
       "\n",
       "                6           7           8           9  \n",
       "count  512.000000  512.000000  512.000000  512.000000  \n",
       "mean     0.010042    0.014112   -0.012998    0.001741  \n",
       "std      0.990000    1.049880    1.004741    1.039567  \n",
       "min     -3.131482   -3.605917   -2.685141   -3.146909  \n",
       "25%     -0.694042   -0.585510   -0.672587   -0.762916  \n",
       "50%      0.034456    0.013235   -0.017411   -0.015816  \n",
       "75%      0.697401    0.732618    0.666117    0.649387  \n",
       "max      2.412066    3.016388    3.209550    2.948926  "
      ]
     },
     "metadata": {},
     "execution_count": 200
    }
   ],
   "metadata": {}
  },
  {
   "cell_type": "code",
   "execution_count": 155,
   "source": [
    "corr = df.corr()\r\n",
    "sns.heatmap(corr, cmap=\"rainbow\")"
   ],
   "outputs": [
    {
     "output_type": "execute_result",
     "data": {
      "text/plain": [
       "<AxesSubplot:>"
      ]
     },
     "metadata": {},
     "execution_count": 155
    },
    {
     "output_type": "display_data",
     "data": {
      "image/png": "[encoded data removed]",
      "text/plain": [
       "<Figure size 432x288 with 2 Axes>"
      ]
     },
     "metadata": {
      "needs_background": "light"
     }
    }
   ],
   "metadata": {}
  },
  {
   "cell_type": "markdown",
   "source": [
    "###Пункт 2"
   ],
   "metadata": {}
  },
  {
   "cell_type": "code",
   "execution_count": 166,
   "source": [
    "df = pd.read_csv('voice.csv')\r\n",
    "df.head()"
   ],
   "outputs": [
    {
     "output_type": "execute_result",
     "data": {
      "text/html": [
       "<div>\n",
       "<style scoped>\n",
       "    .dataframe tbody tr th:only-of-type {\n",
       "        vertical-align: middle;\n",
       "    }\n",
       "\n",
       "    .dataframe tbody tr th {\n",
       "        vertical-align: top;\n",
       "    }\n",
       "\n",
       "    .dataframe thead th {\n",
       "        text-align: right;\n",
       "    }\n",
       "</style>\n",
       "<table border=\"1\" class=\"dataframe\">\n",
       "  <thead>\n",
       "    <tr style=\"text-align: right;\">\n",
       "      <th></th>\n",
       "      <th>meanfreq</th>\n",
       "      <th>sd</th>\n",
       "      <th>median</th>\n",
       "      <th>Q25</th>\n",
       "      <th>Q75</th>\n",
       "      <th>IQR</th>\n",
       "      <th>skew</th>\n",
       "      <th>kurt</th>\n",
       "      <th>sp.ent</th>\n",
       "      <th>sfm</th>\n",
       "      <th>...</th>\n",
       "      <th>centroid</th>\n",
       "      <th>meanfun</th>\n",
       "      <th>minfun</th>\n",
       "      <th>maxfun</th>\n",
       "      <th>meandom</th>\n",
       "      <th>mindom</th>\n",
       "      <th>maxdom</th>\n",
       "      <th>dfrange</th>\n",
       "      <th>modindx</th>\n",
       "      <th>label</th>\n",
       "    </tr>\n",
       "  </thead>\n",
       "  <tbody>\n",
       "    <tr>\n",
       "      <th>0</th>\n",
       "      <td>0.059781</td>\n",
       "      <td>0.064241</td>\n",
       "      <td>0.032027</td>\n",
       "      <td>0.015071</td>\n",
       "      <td>0.090193</td>\n",
       "      <td>0.075122</td>\n",
       "      <td>12.863462</td>\n",
       "      <td>274.402906</td>\n",
       "      <td>0.893369</td>\n",
       "      <td>0.491918</td>\n",
       "      <td>...</td>\n",
       "      <td>0.059781</td>\n",
       "      <td>0.084279</td>\n",
       "      <td>0.015702</td>\n",
       "      <td>0.275862</td>\n",
       "      <td>0.007812</td>\n",
       "      <td>0.007812</td>\n",
       "      <td>0.007812</td>\n",
       "      <td>0.000000</td>\n",
       "      <td>0.000000</td>\n",
       "      <td>male</td>\n",
       "    </tr>\n",
       "    <tr>\n",
       "      <th>1</th>\n",
       "      <td>0.066009</td>\n",
       "      <td>0.067310</td>\n",
       "      <td>0.040229</td>\n",
       "      <td>0.019414</td>\n",
       "      <td>0.092666</td>\n",
       "      <td>0.073252</td>\n",
       "      <td>22.423285</td>\n",
       "      <td>634.613855</td>\n",
       "      <td>0.892193</td>\n",
       "      <td>0.513724</td>\n",
       "      <td>...</td>\n",
       "      <td>0.066009</td>\n",
       "      <td>0.107937</td>\n",
       "      <td>0.015826</td>\n",
       "      <td>0.250000</td>\n",
       "      <td>0.009014</td>\n",
       "      <td>0.007812</td>\n",
       "      <td>0.054688</td>\n",
       "      <td>0.046875</td>\n",
       "      <td>0.052632</td>\n",
       "      <td>male</td>\n",
       "    </tr>\n",
       "    <tr>\n",
       "      <th>2</th>\n",
       "      <td>0.077316</td>\n",
       "      <td>0.083829</td>\n",
       "      <td>0.036718</td>\n",
       "      <td>0.008701</td>\n",
       "      <td>0.131908</td>\n",
       "      <td>0.123207</td>\n",
       "      <td>30.757155</td>\n",
       "      <td>1024.927705</td>\n",
       "      <td>0.846389</td>\n",
       "      <td>0.478905</td>\n",
       "      <td>...</td>\n",
       "      <td>0.077316</td>\n",
       "      <td>0.098706</td>\n",
       "      <td>0.015656</td>\n",
       "      <td>0.271186</td>\n",
       "      <td>0.007990</td>\n",
       "      <td>0.007812</td>\n",
       "      <td>0.015625</td>\n",
       "      <td>0.007812</td>\n",
       "      <td>0.046512</td>\n",
       "      <td>male</td>\n",
       "    </tr>\n",
       "    <tr>\n",
       "      <th>3</th>\n",
       "      <td>0.151228</td>\n",
       "      <td>0.072111</td>\n",
       "      <td>0.158011</td>\n",
       "      <td>0.096582</td>\n",
       "      <td>0.207955</td>\n",
       "      <td>0.111374</td>\n",
       "      <td>1.232831</td>\n",
       "      <td>4.177296</td>\n",
       "      <td>0.963322</td>\n",
       "      <td>0.727232</td>\n",
       "      <td>...</td>\n",
       "      <td>0.151228</td>\n",
       "      <td>0.088965</td>\n",
       "      <td>0.017798</td>\n",
       "      <td>0.250000</td>\n",
       "      <td>0.201497</td>\n",
       "      <td>0.007812</td>\n",
       "      <td>0.562500</td>\n",
       "      <td>0.554688</td>\n",
       "      <td>0.247119</td>\n",
       "      <td>male</td>\n",
       "    </tr>\n",
       "    <tr>\n",
       "      <th>4</th>\n",
       "      <td>0.135120</td>\n",
       "      <td>0.079146</td>\n",
       "      <td>0.124656</td>\n",
       "      <td>0.078720</td>\n",
       "      <td>0.206045</td>\n",
       "      <td>0.127325</td>\n",
       "      <td>1.101174</td>\n",
       "      <td>4.333713</td>\n",
       "      <td>0.971955</td>\n",
       "      <td>0.783568</td>\n",
       "      <td>...</td>\n",
       "      <td>0.135120</td>\n",
       "      <td>0.106398</td>\n",
       "      <td>0.016931</td>\n",
       "      <td>0.266667</td>\n",
       "      <td>0.712812</td>\n",
       "      <td>0.007812</td>\n",
       "      <td>5.484375</td>\n",
       "      <td>5.476562</td>\n",
       "      <td>0.208274</td>\n",
       "      <td>male</td>\n",
       "    </tr>\n",
       "  </tbody>\n",
       "</table>\n",
       "<p>5 rows × 21 columns</p>\n",
       "</div>"
      ],
      "text/plain": [
       "   meanfreq        sd    median       Q25       Q75       IQR       skew  \\\n",
       "0  0.059781  0.064241  0.032027  0.015071  0.090193  0.075122  12.863462   \n",
       "1  0.066009  0.067310  0.040229  0.019414  0.092666  0.073252  22.423285   \n",
       "2  0.077316  0.083829  0.036718  0.008701  0.131908  0.123207  30.757155   \n",
       "3  0.151228  0.072111  0.158011  0.096582  0.207955  0.111374   1.232831   \n",
       "4  0.135120  0.079146  0.124656  0.078720  0.206045  0.127325   1.101174   \n",
       "\n",
       "          kurt    sp.ent       sfm  ...  centroid   meanfun    minfun  \\\n",
       "0   274.402906  0.893369  0.491918  ...  0.059781  0.084279  0.015702   \n",
       "1   634.613855  0.892193  0.513724  ...  0.066009  0.107937  0.015826   \n",
       "2  1024.927705  0.846389  0.478905  ...  0.077316  0.098706  0.015656   \n",
       "3     4.177296  0.963322  0.727232  ...  0.151228  0.088965  0.017798   \n",
       "4     4.333713  0.971955  0.783568  ...  0.135120  0.106398  0.016931   \n",
       "\n",
       "     maxfun   meandom    mindom    maxdom   dfrange   modindx  label  \n",
       "0  0.275862  0.007812  0.007812  0.007812  0.000000  0.000000   male  \n",
       "1  0.250000  0.009014  0.007812  0.054688  0.046875  0.052632   male  \n",
       "2  0.271186  0.007990  0.007812  0.015625  0.007812  0.046512   male  \n",
       "3  0.250000  0.201497  0.007812  0.562500  0.554688  0.247119   male  \n",
       "4  0.266667  0.712812  0.007812  5.484375  5.476562  0.208274   male  \n",
       "\n",
       "[5 rows x 21 columns]"
      ]
     },
     "metadata": {},
     "execution_count": 166
    }
   ],
   "metadata": {}
  },
  {
   "cell_type": "code",
   "execution_count": 167,
   "source": [
    "df.info()"
   ],
   "outputs": [
    {
     "output_type": "stream",
     "name": "stdout",
     "text": [
      "<class 'pandas.core.frame.DataFrame'>\n",
      "RangeIndex: 3168 entries, 0 to 3167\n",
      "Data columns (total 21 columns):\n",
      " #   Column    Non-Null Count  Dtype  \n",
      "---  ------    --------------  -----  \n",
      " 0   meanfreq  3168 non-null   float64\n",
      " 1   sd        3168 non-null   float64\n",
      " 2   median    3168 non-null   float64\n",
      " 3   Q25       3168 non-null   float64\n",
      " 4   Q75       3168 non-null   float64\n",
      " 5   IQR       3168 non-null   float64\n",
      " 6   skew      3168 non-null   float64\n",
      " 7   kurt      3168 non-null   float64\n",
      " 8   sp.ent    3168 non-null   float64\n",
      " 9   sfm       3168 non-null   float64\n",
      " 10  mode      3168 non-null   float64\n",
      " 11  centroid  3168 non-null   float64\n",
      " 12  meanfun   3168 non-null   float64\n",
      " 13  minfun    3168 non-null   float64\n",
      " 14  maxfun    3168 non-null   float64\n",
      " 15  meandom   3168 non-null   float64\n",
      " 16  mindom    3168 non-null   float64\n",
      " 17  maxdom    3168 non-null   float64\n",
      " 18  dfrange   3168 non-null   float64\n",
      " 19  modindx   3168 non-null   float64\n",
      " 20  label     3168 non-null   object \n",
      "dtypes: float64(20), object(1)\n",
      "memory usage: 519.9+ KB\n"
     ]
    }
   ],
   "metadata": {}
  },
  {
   "cell_type": "code",
   "execution_count": 168,
   "source": [
    "df.describe()"
   ],
   "outputs": [
    {
     "output_type": "execute_result",
     "data": {
      "text/html": [
       "<div>\n",
       "<style scoped>\n",
       "    .dataframe tbody tr th:only-of-type {\n",
       "        vertical-align: middle;\n",
       "    }\n",
       "\n",
       "    .dataframe tbody tr th {\n",
       "        vertical-align: top;\n",
       "    }\n",
       "\n",
       "    .dataframe thead th {\n",
       "        text-align: right;\n",
       "    }\n",
       "</style>\n",
       "<table border=\"1\" class=\"dataframe\">\n",
       "  <thead>\n",
       "    <tr style=\"text-align: right;\">\n",
       "      <th></th>\n",
       "      <th>meanfreq</th>\n",
       "      <th>sd</th>\n",
       "      <th>median</th>\n",
       "      <th>Q25</th>\n",
       "      <th>Q75</th>\n",
       "      <th>IQR</th>\n",
       "      <th>skew</th>\n",
       "      <th>kurt</th>\n",
       "      <th>sp.ent</th>\n",
       "      <th>sfm</th>\n",
       "      <th>mode</th>\n",
       "      <th>centroid</th>\n",
       "      <th>meanfun</th>\n",
       "      <th>minfun</th>\n",
       "      <th>maxfun</th>\n",
       "      <th>meandom</th>\n",
       "      <th>mindom</th>\n",
       "      <th>maxdom</th>\n",
       "      <th>dfrange</th>\n",
       "      <th>modindx</th>\n",
       "    </tr>\n",
       "  </thead>\n",
       "  <tbody>\n",
       "    <tr>\n",
       "      <th>count</th>\n",
       "      <td>3168.000000</td>\n",
       "      <td>3168.000000</td>\n",
       "      <td>3168.000000</td>\n",
       "      <td>3168.000000</td>\n",
       "      <td>3168.000000</td>\n",
       "      <td>3168.000000</td>\n",
       "      <td>3168.000000</td>\n",
       "      <td>3168.000000</td>\n",
       "      <td>3168.000000</td>\n",
       "      <td>3168.000000</td>\n",
       "      <td>3168.000000</td>\n",
       "      <td>3168.000000</td>\n",
       "      <td>3168.000000</td>\n",
       "      <td>3168.000000</td>\n",
       "      <td>3168.000000</td>\n",
       "      <td>3168.000000</td>\n",
       "      <td>3168.000000</td>\n",
       "      <td>3168.000000</td>\n",
       "      <td>3168.000000</td>\n",
       "      <td>3168.000000</td>\n",
       "    </tr>\n",
       "    <tr>\n",
       "      <th>mean</th>\n",
       "      <td>0.180907</td>\n",
       "      <td>0.057126</td>\n",
       "      <td>0.185621</td>\n",
       "      <td>0.140456</td>\n",
       "      <td>0.224765</td>\n",
       "      <td>0.084309</td>\n",
       "      <td>3.140168</td>\n",
       "      <td>36.568461</td>\n",
       "      <td>0.895127</td>\n",
       "      <td>0.408216</td>\n",
       "      <td>0.165282</td>\n",
       "      <td>0.180907</td>\n",
       "      <td>0.142807</td>\n",
       "      <td>0.036802</td>\n",
       "      <td>0.258842</td>\n",
       "      <td>0.829211</td>\n",
       "      <td>0.052647</td>\n",
       "      <td>5.047277</td>\n",
       "      <td>4.994630</td>\n",
       "      <td>0.173752</td>\n",
       "    </tr>\n",
       "    <tr>\n",
       "      <th>std</th>\n",
       "      <td>0.029918</td>\n",
       "      <td>0.016652</td>\n",
       "      <td>0.036360</td>\n",
       "      <td>0.048680</td>\n",
       "      <td>0.023639</td>\n",
       "      <td>0.042783</td>\n",
       "      <td>4.240529</td>\n",
       "      <td>134.928661</td>\n",
       "      <td>0.044980</td>\n",
       "      <td>0.177521</td>\n",
       "      <td>0.077203</td>\n",
       "      <td>0.029918</td>\n",
       "      <td>0.032304</td>\n",
       "      <td>0.019220</td>\n",
       "      <td>0.030077</td>\n",
       "      <td>0.525205</td>\n",
       "      <td>0.063299</td>\n",
       "      <td>3.521157</td>\n",
       "      <td>3.520039</td>\n",
       "      <td>0.119454</td>\n",
       "    </tr>\n",
       "    <tr>\n",
       "      <th>min</th>\n",
       "      <td>0.039363</td>\n",
       "      <td>0.018363</td>\n",
       "      <td>0.010975</td>\n",
       "      <td>0.000229</td>\n",
       "      <td>0.042946</td>\n",
       "      <td>0.014558</td>\n",
       "      <td>0.141735</td>\n",
       "      <td>2.068455</td>\n",
       "      <td>0.738651</td>\n",
       "      <td>0.036876</td>\n",
       "      <td>0.000000</td>\n",
       "      <td>0.039363</td>\n",
       "      <td>0.055565</td>\n",
       "      <td>0.009775</td>\n",
       "      <td>0.103093</td>\n",
       "      <td>0.007812</td>\n",
       "      <td>0.004883</td>\n",
       "      <td>0.007812</td>\n",
       "      <td>0.000000</td>\n",
       "      <td>0.000000</td>\n",
       "    </tr>\n",
       "    <tr>\n",
       "      <th>25%</th>\n",
       "      <td>0.163662</td>\n",
       "      <td>0.041954</td>\n",
       "      <td>0.169593</td>\n",
       "      <td>0.111087</td>\n",
       "      <td>0.208747</td>\n",
       "      <td>0.042560</td>\n",
       "      <td>1.649569</td>\n",
       "      <td>5.669547</td>\n",
       "      <td>0.861811</td>\n",
       "      <td>0.258041</td>\n",
       "      <td>0.118016</td>\n",
       "      <td>0.163662</td>\n",
       "      <td>0.116998</td>\n",
       "      <td>0.018223</td>\n",
       "      <td>0.253968</td>\n",
       "      <td>0.419828</td>\n",
       "      <td>0.007812</td>\n",
       "      <td>2.070312</td>\n",
       "      <td>2.044922</td>\n",
       "      <td>0.099766</td>\n",
       "    </tr>\n",
       "    <tr>\n",
       "      <th>50%</th>\n",
       "      <td>0.184838</td>\n",
       "      <td>0.059155</td>\n",
       "      <td>0.190032</td>\n",
       "      <td>0.140286</td>\n",
       "      <td>0.225684</td>\n",
       "      <td>0.094280</td>\n",
       "      <td>2.197101</td>\n",
       "      <td>8.318463</td>\n",
       "      <td>0.901767</td>\n",
       "      <td>0.396335</td>\n",
       "      <td>0.186599</td>\n",
       "      <td>0.184838</td>\n",
       "      <td>0.140519</td>\n",
       "      <td>0.046110</td>\n",
       "      <td>0.271186</td>\n",
       "      <td>0.765795</td>\n",
       "      <td>0.023438</td>\n",
       "      <td>4.992188</td>\n",
       "      <td>4.945312</td>\n",
       "      <td>0.139357</td>\n",
       "    </tr>\n",
       "    <tr>\n",
       "      <th>75%</th>\n",
       "      <td>0.199146</td>\n",
       "      <td>0.067020</td>\n",
       "      <td>0.210618</td>\n",
       "      <td>0.175939</td>\n",
       "      <td>0.243660</td>\n",
       "      <td>0.114175</td>\n",
       "      <td>2.931694</td>\n",
       "      <td>13.648905</td>\n",
       "      <td>0.928713</td>\n",
       "      <td>0.533676</td>\n",
       "      <td>0.221104</td>\n",
       "      <td>0.199146</td>\n",
       "      <td>0.169581</td>\n",
       "      <td>0.047904</td>\n",
       "      <td>0.277457</td>\n",
       "      <td>1.177166</td>\n",
       "      <td>0.070312</td>\n",
       "      <td>7.007812</td>\n",
       "      <td>6.992188</td>\n",
       "      <td>0.209183</td>\n",
       "    </tr>\n",
       "    <tr>\n",
       "      <th>max</th>\n",
       "      <td>0.251124</td>\n",
       "      <td>0.115273</td>\n",
       "      <td>0.261224</td>\n",
       "      <td>0.247347</td>\n",
       "      <td>0.273469</td>\n",
       "      <td>0.252225</td>\n",
       "      <td>34.725453</td>\n",
       "      <td>1309.612887</td>\n",
       "      <td>0.981997</td>\n",
       "      <td>0.842936</td>\n",
       "      <td>0.280000</td>\n",
       "      <td>0.251124</td>\n",
       "      <td>0.237636</td>\n",
       "      <td>0.204082</td>\n",
       "      <td>0.279114</td>\n",
       "      <td>2.957682</td>\n",
       "      <td>0.458984</td>\n",
       "      <td>21.867188</td>\n",
       "      <td>21.843750</td>\n",
       "      <td>0.932374</td>\n",
       "    </tr>\n",
       "  </tbody>\n",
       "</table>\n",
       "</div>"
      ],
      "text/plain": [
       "          meanfreq           sd       median          Q25          Q75  \\\n",
       "count  3168.000000  3168.000000  3168.000000  3168.000000  3168.000000   \n",
       "mean      0.180907     0.057126     0.185621     0.140456     0.224765   \n",
       "std       0.029918     0.016652     0.036360     0.048680     0.023639   \n",
       "min       0.039363     0.018363     0.010975     0.000229     0.042946   \n",
       "25%       0.163662     0.041954     0.169593     0.111087     0.208747   \n",
       "50%       0.184838     0.059155     0.190032     0.140286     0.225684   \n",
       "75%       0.199146     0.067020     0.210618     0.175939     0.243660   \n",
       "max       0.251124     0.115273     0.261224     0.247347     0.273469   \n",
       "\n",
       "               IQR         skew         kurt       sp.ent          sfm  \\\n",
       "count  3168.000000  3168.000000  3168.000000  3168.000000  3168.000000   \n",
       "mean      0.084309     3.140168    36.568461     0.895127     0.408216   \n",
       "std       0.042783     4.240529   134.928661     0.044980     0.177521   \n",
       "min       0.014558     0.141735     2.068455     0.738651     0.036876   \n",
       "25%       0.042560     1.649569     5.669547     0.861811     0.258041   \n",
       "50%       0.094280     2.197101     8.318463     0.901767     0.396335   \n",
       "75%       0.114175     2.931694    13.648905     0.928713     0.533676   \n",
       "max       0.252225    34.725453  1309.612887     0.981997     0.842936   \n",
       "\n",
       "              mode     centroid      meanfun       minfun       maxfun  \\\n",
       "count  3168.000000  3168.000000  3168.000000  3168.000000  3168.000000   \n",
       "mean      0.165282     0.180907     0.142807     0.036802     0.258842   \n",
       "std       0.077203     0.029918     0.032304     0.019220     0.030077   \n",
       "min       0.000000     0.039363     0.055565     0.009775     0.103093   \n",
       "25%       0.118016     0.163662     0.116998     0.018223     0.253968   \n",
       "50%       0.186599     0.184838     0.140519     0.046110     0.271186   \n",
       "75%       0.221104     0.199146     0.169581     0.047904     0.277457   \n",
       "max       0.280000     0.251124     0.237636     0.204082     0.279114   \n",
       "\n",
       "           meandom       mindom       maxdom      dfrange      modindx  \n",
       "count  3168.000000  3168.000000  3168.000000  3168.000000  3168.000000  \n",
       "mean      0.829211     0.052647     5.047277     4.994630     0.173752  \n",
       "std       0.525205     0.063299     3.521157     3.520039     0.119454  \n",
       "min       0.007812     0.004883     0.007812     0.000000     0.000000  \n",
       "25%       0.419828     0.007812     2.070312     2.044922     0.099766  \n",
       "50%       0.765795     0.023438     4.992188     4.945312     0.139357  \n",
       "75%       1.177166     0.070312     7.007812     6.992188     0.209183  \n",
       "max       2.957682     0.458984    21.867188    21.843750     0.932374  "
      ]
     },
     "metadata": {},
     "execution_count": 168
    }
   ],
   "metadata": {}
  },
  {
   "cell_type": "code",
   "execution_count": 169,
   "source": [
    "corr = df.corr()\r\n",
    "sns.heatmap(corr, cmap=\"YlGnBu\")"
   ],
   "outputs": [
    {
     "output_type": "execute_result",
     "data": {
      "text/plain": [
       "<AxesSubplot:>"
      ]
     },
     "metadata": {},
     "execution_count": 169
    },
    {
     "output_type": "display_data",
     "data": {
      "image/png": "[encoded data removed]",
      "text/plain": [
       "<Figure size 432x288 with 2 Axes>"
      ]
     },
     "metadata": {
      "needs_background": "light"
     }
    }
   ],
   "metadata": {}
  },
  {
   "cell_type": "code",
   "execution_count": 170,
   "source": [
    "import sklearn\r\n",
    "from sklearn.model_selection import train_test_split"
   ],
   "outputs": [],
   "metadata": {}
  },
  {
   "cell_type": "code",
   "execution_count": 171,
   "source": [
    "columns=df.columns #label не використовую, він не типу int або float\r\n",
    "columns=columns[:19]\r\n",
    "X=df[['meanfreq', 'sd', 'median', 'Q25', 'Q75', 'IQR', 'skew', 'kurt', 'sp.ent', 'sfm', 'mode', 'centroid', 'meanfun', 'minfun', 'maxfun', 'meandom', 'mindom', 'maxdom', 'dfrange']]\r\n",
    "\r\n",
    "y=df[['modindx']]"
   ],
   "outputs": [],
   "metadata": {}
  },
  {
   "cell_type": "code",
   "execution_count": 172,
   "source": [
    "X_train,X_test,y_train,y_test = train_test_split(X,y,test_size=0.3)"
   ],
   "outputs": [],
   "metadata": {}
  },
  {
   "cell_type": "code",
   "execution_count": 173,
   "source": [
    "from sklearn.linear_model import LinearRegression"
   ],
   "outputs": [],
   "metadata": {}
  },
  {
   "cell_type": "code",
   "execution_count": 174,
   "source": [
    "lr = LinearRegression()"
   ],
   "outputs": [],
   "metadata": {}
  },
  {
   "cell_type": "code",
   "execution_count": 175,
   "source": [
    "lr.fit(X_train,y_train)\r\n"
   ],
   "outputs": [
    {
     "output_type": "execute_result",
     "data": {
      "text/plain": [
       "LinearRegression()"
      ]
     },
     "metadata": {},
     "execution_count": 175
    }
   ],
   "metadata": {}
  },
  {
   "cell_type": "code",
   "execution_count": 176,
   "source": [
    "y_Hat = lr.predict(X_test)"
   ],
   "outputs": [],
   "metadata": {}
  },
  {
   "cell_type": "code",
   "execution_count": 177,
   "source": [
    "from sklearn.metrics import mean_absolute_error\r\n",
    "\r\n",
    "mean_absolute_error(y_test, y_Hat)\r\n"
   ],
   "outputs": [
    {
     "output_type": "execute_result",
     "data": {
      "text/plain": [
       "0.06208767686519441"
      ]
     },
     "metadata": {},
     "execution_count": 177
    }
   ],
   "metadata": {}
  },
  {
   "cell_type": "code",
   "execution_count": 178,
   "source": [
    "from sklearn.metrics import mean_squared_error \r\n",
    "mean_squared_error(y_test, y_Hat)"
   ],
   "outputs": [
    {
     "output_type": "execute_result",
     "data": {
      "text/plain": [
       "0.007469187510307054"
      ]
     },
     "metadata": {},
     "execution_count": 178
    }
   ],
   "metadata": {}
  },
  {
   "cell_type": "code",
   "execution_count": 179,
   "source": [
    "res = pd.DataFrame(y_test)\r\n",
    "res['modindx_predicted'] = y_Hat\r\n",
    "\r\n",
    "res.head()"
   ],
   "outputs": [
    {
     "output_type": "execute_result",
     "data": {
      "text/html": [
       "<div>\n",
       "<style scoped>\n",
       "    .dataframe tbody tr th:only-of-type {\n",
       "        vertical-align: middle;\n",
       "    }\n",
       "\n",
       "    .dataframe tbody tr th {\n",
       "        vertical-align: top;\n",
       "    }\n",
       "\n",
       "    .dataframe thead th {\n",
       "        text-align: right;\n",
       "    }\n",
       "</style>\n",
       "<table border=\"1\" class=\"dataframe\">\n",
       "  <thead>\n",
       "    <tr style=\"text-align: right;\">\n",
       "      <th></th>\n",
       "      <th>modindx</th>\n",
       "      <th>modindx_predicted</th>\n",
       "    </tr>\n",
       "  </thead>\n",
       "  <tbody>\n",
       "    <tr>\n",
       "      <th>2541</th>\n",
       "      <td>0.038962</td>\n",
       "      <td>0.033833</td>\n",
       "    </tr>\n",
       "    <tr>\n",
       "      <th>2218</th>\n",
       "      <td>0.097246</td>\n",
       "      <td>0.164245</td>\n",
       "    </tr>\n",
       "    <tr>\n",
       "      <th>230</th>\n",
       "      <td>0.198157</td>\n",
       "      <td>0.253106</td>\n",
       "    </tr>\n",
       "    <tr>\n",
       "      <th>2498</th>\n",
       "      <td>0.075107</td>\n",
       "      <td>0.027970</td>\n",
       "    </tr>\n",
       "    <tr>\n",
       "      <th>1302</th>\n",
       "      <td>0.102702</td>\n",
       "      <td>0.135366</td>\n",
       "    </tr>\n",
       "  </tbody>\n",
       "</table>\n",
       "</div>"
      ],
      "text/plain": [
       "       modindx  modindx_predicted\n",
       "2541  0.038962           0.033833\n",
       "2218  0.097246           0.164245\n",
       "230   0.198157           0.253106\n",
       "2498  0.075107           0.027970\n",
       "1302  0.102702           0.135366"
      ]
     },
     "metadata": {},
     "execution_count": 179
    }
   ],
   "metadata": {}
  },
  {
   "cell_type": "code",
   "execution_count": 180,
   "source": [
    "plt.scatter(res['modindx'],res['modindx_predicted'])"
   ],
   "outputs": [
    {
     "output_type": "execute_result",
     "data": {
      "text/plain": [
       "<matplotlib.collections.PathCollection at 0x290b1746b50>"
      ]
     },
     "metadata": {},
     "execution_count": 180
    },
    {
     "output_type": "display_data",
     "data": {
      "image/png": "[encoded data removed]",
      "text/plain": [
       "<Figure size 432x288 with 1 Axes>"
      ]
     },
     "metadata": {
      "needs_background": "light"
     }
    }
   ],
   "metadata": {}
  },
  {
   "cell_type": "markdown",
   "source": [
    "###Пункт 3"
   ],
   "metadata": {}
  },
  {
   "cell_type": "code",
   "execution_count": 181,
   "source": [
    "import random as rnd\r\n",
    "\r\n",
    "sex = {0:'Man', 1:'Woman'}\r\n",
    "age = {0:'<30', 1:'>30'}\r\n",
    "car = {0:'have', 1:'dont have'}\r\n",
    "marital_status = {0:'YES', 1:'NO'}\r\n",
    "child = {0:'0', 1:'1', 2:'2', 3:'More than 3'}\r\n",
    "citizenship = {0:'Ukrainian', 1:'Russian', 2:'Belorussian', 3:'Another'}\r\n",
    "data = []\r\n",
    "for i in range(0, 512):\r\n",
    "    row = []\r\n",
    "    row.append(round(rnd.uniform(1, 50), 2))\r\n",
    "    row.append(round(rnd.uniform(1, 10), 2))\r\n",
    "    row.append(sex[rnd.randint(0, 1)])\r\n",
    "    row.append(age[rnd.randint(0, 1)])\r\n",
    "    row.append(car[rnd.randint(0, 1)])\r\n",
    "    row.append(marital_status[rnd.randint(0, 1)])\r\n",
    "    row.append(child[rnd.randint(0, 3)])\r\n",
    "    row.append(citizenship[rnd.randint(0, 3)])\r\n",
    "    data.append(row)\r\n",
    "df = pd.DataFrame(data, columns=['total_utility_bill', 'commission', 'sex', 'age', 'car', 'marital_status', 'child', 'citizenthip'])"
   ],
   "outputs": [],
   "metadata": {}
  },
  {
   "cell_type": "code",
   "execution_count": 182,
   "source": [
    "df.replace({'Man': 0, 'Woman':1, '<30': 0, '>30':1, 'have':0, 'dont have':1, 'YES':0, 'NO':1, '0':0, '1':1, '2':2, 'More than 3':3, 'Ukrainian': 0\r\n",
    ", 'Russian':1, 'Belorussian':2, 'Another':3}, None, True)\r\n",
    "\r\n",
    "df.to_csv('my_data_set.csv')"
   ],
   "outputs": [],
   "metadata": {}
  },
  {
   "cell_type": "code",
   "execution_count": 183,
   "source": [
    "df.head()"
   ],
   "outputs": [
    {
     "output_type": "execute_result",
     "data": {
      "text/html": [
       "<div>\n",
       "<style scoped>\n",
       "    .dataframe tbody tr th:only-of-type {\n",
       "        vertical-align: middle;\n",
       "    }\n",
       "\n",
       "    .dataframe tbody tr th {\n",
       "        vertical-align: top;\n",
       "    }\n",
       "\n",
       "    .dataframe thead th {\n",
       "        text-align: right;\n",
       "    }\n",
       "</style>\n",
       "<table border=\"1\" class=\"dataframe\">\n",
       "  <thead>\n",
       "    <tr style=\"text-align: right;\">\n",
       "      <th></th>\n",
       "      <th>total_utility_bill</th>\n",
       "      <th>commission</th>\n",
       "      <th>sex</th>\n",
       "      <th>age</th>\n",
       "      <th>car</th>\n",
       "      <th>marital_status</th>\n",
       "      <th>child</th>\n",
       "      <th>citizenthip</th>\n",
       "    </tr>\n",
       "  </thead>\n",
       "  <tbody>\n",
       "    <tr>\n",
       "      <th>0</th>\n",
       "      <td>30.15</td>\n",
       "      <td>9.36</td>\n",
       "      <td>1</td>\n",
       "      <td>1</td>\n",
       "      <td>0</td>\n",
       "      <td>0</td>\n",
       "      <td>3</td>\n",
       "      <td>0</td>\n",
       "    </tr>\n",
       "    <tr>\n",
       "      <th>1</th>\n",
       "      <td>16.20</td>\n",
       "      <td>1.43</td>\n",
       "      <td>0</td>\n",
       "      <td>0</td>\n",
       "      <td>0</td>\n",
       "      <td>1</td>\n",
       "      <td>2</td>\n",
       "      <td>2</td>\n",
       "    </tr>\n",
       "    <tr>\n",
       "      <th>2</th>\n",
       "      <td>30.14</td>\n",
       "      <td>3.47</td>\n",
       "      <td>0</td>\n",
       "      <td>0</td>\n",
       "      <td>0</td>\n",
       "      <td>1</td>\n",
       "      <td>0</td>\n",
       "      <td>1</td>\n",
       "    </tr>\n",
       "    <tr>\n",
       "      <th>3</th>\n",
       "      <td>39.24</td>\n",
       "      <td>2.59</td>\n",
       "      <td>1</td>\n",
       "      <td>0</td>\n",
       "      <td>1</td>\n",
       "      <td>0</td>\n",
       "      <td>2</td>\n",
       "      <td>2</td>\n",
       "    </tr>\n",
       "    <tr>\n",
       "      <th>4</th>\n",
       "      <td>11.74</td>\n",
       "      <td>1.03</td>\n",
       "      <td>1</td>\n",
       "      <td>1</td>\n",
       "      <td>0</td>\n",
       "      <td>0</td>\n",
       "      <td>3</td>\n",
       "      <td>1</td>\n",
       "    </tr>\n",
       "  </tbody>\n",
       "</table>\n",
       "</div>"
      ],
      "text/plain": [
       "   total_utility_bill  commission  sex  age  car  marital_status  child  \\\n",
       "0               30.15        9.36    1    1    0               0      3   \n",
       "1               16.20        1.43    0    0    0               1      2   \n",
       "2               30.14        3.47    0    0    0               1      0   \n",
       "3               39.24        2.59    1    0    1               0      2   \n",
       "4               11.74        1.03    1    1    0               0      3   \n",
       "\n",
       "   citizenthip  \n",
       "0            0  \n",
       "1            2  \n",
       "2            1  \n",
       "3            2  \n",
       "4            1  "
      ]
     },
     "metadata": {},
     "execution_count": 183
    }
   ],
   "metadata": {}
  },
  {
   "cell_type": "code",
   "execution_count": 184,
   "source": [
    "df.info()"
   ],
   "outputs": [
    {
     "output_type": "stream",
     "name": "stdout",
     "text": [
      "<class 'pandas.core.frame.DataFrame'>\n",
      "RangeIndex: 512 entries, 0 to 511\n",
      "Data columns (total 8 columns):\n",
      " #   Column              Non-Null Count  Dtype  \n",
      "---  ------              --------------  -----  \n",
      " 0   total_utility_bill  512 non-null    float64\n",
      " 1   commission          512 non-null    float64\n",
      " 2   sex                 512 non-null    int64  \n",
      " 3   age                 512 non-null    int64  \n",
      " 4   car                 512 non-null    int64  \n",
      " 5   marital_status      512 non-null    int64  \n",
      " 6   child               512 non-null    int64  \n",
      " 7   citizenthip         512 non-null    int64  \n",
      "dtypes: float64(2), int64(6)\n",
      "memory usage: 32.1 KB\n"
     ]
    }
   ],
   "metadata": {}
  },
  {
   "cell_type": "code",
   "execution_count": 185,
   "source": [
    "df.describe()"
   ],
   "outputs": [
    {
     "output_type": "execute_result",
     "data": {
      "text/html": [
       "<div>\n",
       "<style scoped>\n",
       "    .dataframe tbody tr th:only-of-type {\n",
       "        vertical-align: middle;\n",
       "    }\n",
       "\n",
       "    .dataframe tbody tr th {\n",
       "        vertical-align: top;\n",
       "    }\n",
       "\n",
       "    .dataframe thead th {\n",
       "        text-align: right;\n",
       "    }\n",
       "</style>\n",
       "<table border=\"1\" class=\"dataframe\">\n",
       "  <thead>\n",
       "    <tr style=\"text-align: right;\">\n",
       "      <th></th>\n",
       "      <th>total_utility_bill</th>\n",
       "      <th>commission</th>\n",
       "      <th>sex</th>\n",
       "      <th>age</th>\n",
       "      <th>car</th>\n",
       "      <th>marital_status</th>\n",
       "      <th>child</th>\n",
       "      <th>citizenthip</th>\n",
       "    </tr>\n",
       "  </thead>\n",
       "  <tbody>\n",
       "    <tr>\n",
       "      <th>count</th>\n",
       "      <td>512.000000</td>\n",
       "      <td>512.000000</td>\n",
       "      <td>512.000000</td>\n",
       "      <td>512.000000</td>\n",
       "      <td>512.000000</td>\n",
       "      <td>512.000000</td>\n",
       "      <td>512.000000</td>\n",
       "      <td>512.000000</td>\n",
       "    </tr>\n",
       "    <tr>\n",
       "      <th>mean</th>\n",
       "      <td>24.749434</td>\n",
       "      <td>5.502188</td>\n",
       "      <td>0.507812</td>\n",
       "      <td>0.509766</td>\n",
       "      <td>0.486328</td>\n",
       "      <td>0.500000</td>\n",
       "      <td>1.535156</td>\n",
       "      <td>1.492188</td>\n",
       "    </tr>\n",
       "    <tr>\n",
       "      <th>std</th>\n",
       "      <td>14.197596</td>\n",
       "      <td>2.538544</td>\n",
       "      <td>0.500428</td>\n",
       "      <td>0.500394</td>\n",
       "      <td>0.500302</td>\n",
       "      <td>0.500489</td>\n",
       "      <td>1.137656</td>\n",
       "      <td>1.105022</td>\n",
       "    </tr>\n",
       "    <tr>\n",
       "      <th>min</th>\n",
       "      <td>1.000000</td>\n",
       "      <td>1.010000</td>\n",
       "      <td>0.000000</td>\n",
       "      <td>0.000000</td>\n",
       "      <td>0.000000</td>\n",
       "      <td>0.000000</td>\n",
       "      <td>0.000000</td>\n",
       "      <td>0.000000</td>\n",
       "    </tr>\n",
       "    <tr>\n",
       "      <th>25%</th>\n",
       "      <td>12.155000</td>\n",
       "      <td>3.467500</td>\n",
       "      <td>0.000000</td>\n",
       "      <td>0.000000</td>\n",
       "      <td>0.000000</td>\n",
       "      <td>0.000000</td>\n",
       "      <td>1.000000</td>\n",
       "      <td>1.000000</td>\n",
       "    </tr>\n",
       "    <tr>\n",
       "      <th>50%</th>\n",
       "      <td>24.460000</td>\n",
       "      <td>5.460000</td>\n",
       "      <td>1.000000</td>\n",
       "      <td>1.000000</td>\n",
       "      <td>0.000000</td>\n",
       "      <td>0.500000</td>\n",
       "      <td>2.000000</td>\n",
       "      <td>1.000000</td>\n",
       "    </tr>\n",
       "    <tr>\n",
       "      <th>75%</th>\n",
       "      <td>36.615000</td>\n",
       "      <td>7.500000</td>\n",
       "      <td>1.000000</td>\n",
       "      <td>1.000000</td>\n",
       "      <td>1.000000</td>\n",
       "      <td>1.000000</td>\n",
       "      <td>3.000000</td>\n",
       "      <td>2.000000</td>\n",
       "    </tr>\n",
       "    <tr>\n",
       "      <th>max</th>\n",
       "      <td>49.910000</td>\n",
       "      <td>9.980000</td>\n",
       "      <td>1.000000</td>\n",
       "      <td>1.000000</td>\n",
       "      <td>1.000000</td>\n",
       "      <td>1.000000</td>\n",
       "      <td>3.000000</td>\n",
       "      <td>3.000000</td>\n",
       "    </tr>\n",
       "  </tbody>\n",
       "</table>\n",
       "</div>"
      ],
      "text/plain": [
       "       total_utility_bill  commission         sex         age         car  \\\n",
       "count          512.000000  512.000000  512.000000  512.000000  512.000000   \n",
       "mean            24.749434    5.502188    0.507812    0.509766    0.486328   \n",
       "std             14.197596    2.538544    0.500428    0.500394    0.500302   \n",
       "min              1.000000    1.010000    0.000000    0.000000    0.000000   \n",
       "25%             12.155000    3.467500    0.000000    0.000000    0.000000   \n",
       "50%             24.460000    5.460000    1.000000    1.000000    0.000000   \n",
       "75%             36.615000    7.500000    1.000000    1.000000    1.000000   \n",
       "max             49.910000    9.980000    1.000000    1.000000    1.000000   \n",
       "\n",
       "       marital_status       child  citizenthip  \n",
       "count      512.000000  512.000000   512.000000  \n",
       "mean         0.500000    1.535156     1.492188  \n",
       "std          0.500489    1.137656     1.105022  \n",
       "min          0.000000    0.000000     0.000000  \n",
       "25%          0.000000    1.000000     1.000000  \n",
       "50%          0.500000    2.000000     1.000000  \n",
       "75%          1.000000    3.000000     2.000000  \n",
       "max          1.000000    3.000000     3.000000  "
      ]
     },
     "metadata": {},
     "execution_count": 185
    }
   ],
   "metadata": {}
  },
  {
   "cell_type": "code",
   "execution_count": 186,
   "source": [
    "corr = df.corr()\r\n",
    "sns.heatmap(corr, cmap=\"YlGnBu\")"
   ],
   "outputs": [
    {
     "output_type": "execute_result",
     "data": {
      "text/plain": [
       "<AxesSubplot:>"
      ]
     },
     "metadata": {},
     "execution_count": 186
    },
    {
     "output_type": "display_data",
     "data": {
      "image/png": "[encoded data removed]",
      "text/plain": [
       "<Figure size 432x288 with 2 Axes>"
      ]
     },
     "metadata": {
      "needs_background": "light"
     }
    }
   ],
   "metadata": {}
  },
  {
   "cell_type": "code",
   "execution_count": 187,
   "source": [
    "columns=df.columns\r\n",
    "columns=columns[:7]\r\n",
    "X=df[['total_utility_bill', 'commission', 'sex', 'age', 'car', 'marital_status', 'child']]\r\n",
    "\r\n",
    "y=df[['citizenthip']]"
   ],
   "outputs": [],
   "metadata": {}
  },
  {
   "cell_type": "code",
   "execution_count": 188,
   "source": [
    "X_train,X_test,y_train,y_test = train_test_split(X,y,test_size=0.3)"
   ],
   "outputs": [],
   "metadata": {}
  },
  {
   "cell_type": "code",
   "execution_count": 189,
   "source": [
    "lr = LinearRegression()"
   ],
   "outputs": [],
   "metadata": {}
  },
  {
   "cell_type": "code",
   "execution_count": 190,
   "source": [
    "lr.fit(X_train,y_train)"
   ],
   "outputs": [
    {
     "output_type": "execute_result",
     "data": {
      "text/plain": [
       "LinearRegression()"
      ]
     },
     "metadata": {},
     "execution_count": 190
    }
   ],
   "metadata": {}
  },
  {
   "cell_type": "code",
   "execution_count": 191,
   "source": [
    "y_Hat = lr.predict(X_test)"
   ],
   "outputs": [],
   "metadata": {}
  },
  {
   "cell_type": "code",
   "execution_count": 192,
   "source": [
    "mean_absolute_error(y_test, y_Hat)"
   ],
   "outputs": [
    {
     "output_type": "execute_result",
     "data": {
      "text/plain": [
       "1.0477996656818678"
      ]
     },
     "metadata": {},
     "execution_count": 192
    }
   ],
   "metadata": {}
  },
  {
   "cell_type": "code",
   "execution_count": 193,
   "source": [
    "mean_squared_error(y_test, y_Hat)"
   ],
   "outputs": [
    {
     "output_type": "execute_result",
     "data": {
      "text/plain": [
       "1.3740062069376227"
      ]
     },
     "metadata": {},
     "execution_count": 193
    }
   ],
   "metadata": {}
  },
  {
   "cell_type": "code",
   "execution_count": 194,
   "source": [
    "res = pd.DataFrame(y_test)\r\n",
    "res['citizenthip_predicted'] = y_Hat\r\n",
    "\r\n",
    "res.head()"
   ],
   "outputs": [
    {
     "output_type": "execute_result",
     "data": {
      "text/html": [
       "<div>\n",
       "<style scoped>\n",
       "    .dataframe tbody tr th:only-of-type {\n",
       "        vertical-align: middle;\n",
       "    }\n",
       "\n",
       "    .dataframe tbody tr th {\n",
       "        vertical-align: top;\n",
       "    }\n",
       "\n",
       "    .dataframe thead th {\n",
       "        text-align: right;\n",
       "    }\n",
       "</style>\n",
       "<table border=\"1\" class=\"dataframe\">\n",
       "  <thead>\n",
       "    <tr style=\"text-align: right;\">\n",
       "      <th></th>\n",
       "      <th>citizenthip</th>\n",
       "      <th>citizenthip_predicted</th>\n",
       "    </tr>\n",
       "  </thead>\n",
       "  <tbody>\n",
       "    <tr>\n",
       "      <th>317</th>\n",
       "      <td>0</td>\n",
       "      <td>1.569369</td>\n",
       "    </tr>\n",
       "    <tr>\n",
       "      <th>64</th>\n",
       "      <td>0</td>\n",
       "      <td>1.577774</td>\n",
       "    </tr>\n",
       "    <tr>\n",
       "      <th>488</th>\n",
       "      <td>1</td>\n",
       "      <td>1.414208</td>\n",
       "    </tr>\n",
       "    <tr>\n",
       "      <th>396</th>\n",
       "      <td>1</td>\n",
       "      <td>1.126761</td>\n",
       "    </tr>\n",
       "    <tr>\n",
       "      <th>283</th>\n",
       "      <td>0</td>\n",
       "      <td>1.263859</td>\n",
       "    </tr>\n",
       "  </tbody>\n",
       "</table>\n",
       "</div>"
      ],
      "text/plain": [
       "     citizenthip  citizenthip_predicted\n",
       "317            0               1.569369\n",
       "64             0               1.577774\n",
       "488            1               1.414208\n",
       "396            1               1.126761\n",
       "283            0               1.263859"
      ]
     },
     "metadata": {},
     "execution_count": 194
    }
   ],
   "metadata": {}
  },
  {
   "cell_type": "code",
   "execution_count": 195,
   "source": [
    "plt.scatter(res['citizenthip'],res['citizenthip_predicted'])"
   ],
   "outputs": [
    {
     "output_type": "execute_result",
     "data": {
      "text/plain": [
       "<matplotlib.collections.PathCollection at 0x290b1841b80>"
      ]
     },
     "metadata": {},
     "execution_count": 195
    },
    {
     "output_type": "display_data",
     "data": {
      "image/png": "[encoded data removed]",
      "text/plain": [
       "<Figure size 432x288 with 1 Axes>"
      ]
     },
     "metadata": {
      "needs_background": "light"
     }
    }
   ],
   "metadata": {}
  }
 ],
 "metadata": {
  "orig_nbformat": 4,
  "language_info": {
   "name": "python",
   "version": "3.8.8",
   "mimetype": "text/x-python",
   "codemirror_mode": {
    "name": "ipython",
    "version": 3
   },
   "pygments_lexer": "ipython3",
   "nbconvert_exporter": "python",
   "file_extension": ".py"
  },
  "kernelspec": {
   "name": "python3",
   "display_name": "Python 3.8.8 64-bit ('base': conda)"
  },
  "interpreter": {
   "hash": "cc5f70855ac006f3de45a3cc3b9e7d8d53845e50458809cb162b0174266dec97"
  }
 },
 "nbformat": 4,
 "nbformat_minor": 2
}