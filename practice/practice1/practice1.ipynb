{
 "cells": [
  {
   "cell_type": "markdown",
   "source": [
    "#Практичне Завдання 1\r\n",
    "###Студента Групи МІТ-31\r\n",
    "###Хоміка Богдана Сергійовича"
   ],
   "metadata": {}
  },
  {
   "cell_type": "code",
   "execution_count": 1,
   "source": [
    "import numpy as np # linear algebra\r\n",
    "import pandas as pd # data processing, CSV file I/O (e.g. pd.read_csv)\r\n",
    "import matplotlib.pyplot as plt # visuals\r\n",
    "import seaborn as sns # advanced visuals\r\n",
    "\r\n",
    "import warnings # ignore warnings\r\n",
    "warnings.filterwarnings('ignore')"
   ],
   "outputs": [],
   "metadata": {}
  },
  {
   "cell_type": "code",
   "execution_count": 2,
   "source": [
    "df = pd.read_csv(\"practice1_data.csv\")"
   ],
   "outputs": [],
   "metadata": {}
  },
  {
   "cell_type": "code",
   "execution_count": 3,
   "source": [
    "df.head()"
   ],
   "outputs": [
    {
     "output_type": "execute_result",
     "data": {
      "text/html": [
       "<div>\n",
       "<style scoped>\n",
       "    .dataframe tbody tr th:only-of-type {\n",
       "        vertical-align: middle;\n",
       "    }\n",
       "\n",
       "    .dataframe tbody tr th {\n",
       "        vertical-align: top;\n",
       "    }\n",
       "\n",
       "    .dataframe thead th {\n",
       "        text-align: right;\n",
       "    }\n",
       "</style>\n",
       "<table border=\"1\" class=\"dataframe\">\n",
       "  <thead>\n",
       "    <tr style=\"text-align: right;\">\n",
       "      <th></th>\n",
       "      <th>x1</th>\n",
       "      <th>x2</th>\n",
       "      <th>x3</th>\n",
       "      <th>x4</th>\n",
       "      <th>x5</th>\n",
       "      <th>x6</th>\n",
       "      <th>x7</th>\n",
       "      <th>x8</th>\n",
       "      <th>x9</th>\n",
       "      <th>x10</th>\n",
       "      <th>classes</th>\n",
       "    </tr>\n",
       "  </thead>\n",
       "  <tbody>\n",
       "    <tr>\n",
       "      <th>0</th>\n",
       "      <td>2.163950</td>\n",
       "      <td>0.015729</td>\n",
       "      <td>-1.136593</td>\n",
       "      <td>2.182571</td>\n",
       "      <td>-1.552051</td>\n",
       "      <td>-0.909067</td>\n",
       "      <td>1.791084</td>\n",
       "      <td>-1.094894</td>\n",
       "      <td>0.308272</td>\n",
       "      <td>-0.912365</td>\n",
       "      <td>0</td>\n",
       "    </tr>\n",
       "    <tr>\n",
       "      <th>1</th>\n",
       "      <td>1.364464</td>\n",
       "      <td>-1.359741</td>\n",
       "      <td>-1.881798</td>\n",
       "      <td>-0.484231</td>\n",
       "      <td>-1.974301</td>\n",
       "      <td>-0.017010</td>\n",
       "      <td>2.184909</td>\n",
       "      <td>-1.012308</td>\n",
       "      <td>-0.774774</td>\n",
       "      <td>-3.702803</td>\n",
       "      <td>0</td>\n",
       "    </tr>\n",
       "    <tr>\n",
       "      <th>2</th>\n",
       "      <td>1.237133</td>\n",
       "      <td>0.945965</td>\n",
       "      <td>-0.008633</td>\n",
       "      <td>0.889645</td>\n",
       "      <td>0.348132</td>\n",
       "      <td>-1.863290</td>\n",
       "      <td>-1.093229</td>\n",
       "      <td>0.057705</td>\n",
       "      <td>1.646754</td>\n",
       "      <td>-0.834884</td>\n",
       "      <td>2</td>\n",
       "    </tr>\n",
       "    <tr>\n",
       "      <th>3</th>\n",
       "      <td>0.530019</td>\n",
       "      <td>2.739019</td>\n",
       "      <td>1.168152</td>\n",
       "      <td>-0.182967</td>\n",
       "      <td>-0.313546</td>\n",
       "      <td>1.274500</td>\n",
       "      <td>1.097952</td>\n",
       "      <td>-0.909685</td>\n",
       "      <td>1.490564</td>\n",
       "      <td>2.300722</td>\n",
       "      <td>1</td>\n",
       "    </tr>\n",
       "    <tr>\n",
       "      <th>4</th>\n",
       "      <td>-1.169403</td>\n",
       "      <td>-0.387841</td>\n",
       "      <td>0.049067</td>\n",
       "      <td>-2.136358</td>\n",
       "      <td>-1.839488</td>\n",
       "      <td>-0.635955</td>\n",
       "      <td>-0.136341</td>\n",
       "      <td>0.357952</td>\n",
       "      <td>-0.376029</td>\n",
       "      <td>-2.323494</td>\n",
       "      <td>2</td>\n",
       "    </tr>\n",
       "  </tbody>\n",
       "</table>\n",
       "</div>"
      ],
      "text/plain": [
       "         x1        x2        x3        x4        x5        x6        x7  \\\n",
       "0  2.163950  0.015729 -1.136593  2.182571 -1.552051 -0.909067  1.791084   \n",
       "1  1.364464 -1.359741 -1.881798 -0.484231 -1.974301 -0.017010  2.184909   \n",
       "2  1.237133  0.945965 -0.008633  0.889645  0.348132 -1.863290 -1.093229   \n",
       "3  0.530019  2.739019  1.168152 -0.182967 -0.313546  1.274500  1.097952   \n",
       "4 -1.169403 -0.387841  0.049067 -2.136358 -1.839488 -0.635955 -0.136341   \n",
       "\n",
       "         x8        x9       x10  classes  \n",
       "0 -1.094894  0.308272 -0.912365        0  \n",
       "1 -1.012308 -0.774774 -3.702803        0  \n",
       "2  0.057705  1.646754 -0.834884        2  \n",
       "3 -0.909685  1.490564  2.300722        1  \n",
       "4  0.357952 -0.376029 -2.323494        2  "
      ]
     },
     "metadata": {},
     "execution_count": 3
    }
   ],
   "metadata": {}
  },
  {
   "cell_type": "code",
   "execution_count": 4,
   "source": [
    "df.info()"
   ],
   "outputs": [
    {
     "output_type": "stream",
     "name": "stdout",
     "text": [
      "<class 'pandas.core.frame.DataFrame'>\n",
      "RangeIndex: 1500 entries, 0 to 1499\n",
      "Data columns (total 11 columns):\n",
      " #   Column   Non-Null Count  Dtype  \n",
      "---  ------   --------------  -----  \n",
      " 0   x1       1500 non-null   float64\n",
      " 1   x2       1500 non-null   float64\n",
      " 2   x3       1500 non-null   float64\n",
      " 3   x4       1500 non-null   float64\n",
      " 4   x5       1500 non-null   float64\n",
      " 5   x6       1500 non-null   float64\n",
      " 6   x7       1500 non-null   float64\n",
      " 7   x8       1500 non-null   float64\n",
      " 8   x9       1500 non-null   float64\n",
      " 9   x10      1500 non-null   float64\n",
      " 10  classes  1500 non-null   int64  \n",
      "dtypes: float64(10), int64(1)\n",
      "memory usage: 129.0 KB\n"
     ]
    }
   ],
   "metadata": {}
  },
  {
   "cell_type": "code",
   "execution_count": null,
   "source": [
    "df = df.drop(\"x3\", axis = 1)\r\n",
    "df = df.drop(\"x5\", axis = 1)\r\n",
    "df = df.drop(\"x6\", axis = 1)\r\n",
    "df = df.drop(\"x8\", axis = 1)\r\n",
    "df = df.drop(\"x10\", axis = 1)\r\n",
    "df.head()"
   ],
   "outputs": [],
   "metadata": {}
  },
  {
   "cell_type": "code",
   "execution_count": null,
   "source": [
    "df.describe()"
   ],
   "outputs": [],
   "metadata": {}
  }
 ],
 "metadata": {
  "orig_nbformat": 4,
  "language_info": {
   "name": "python",
   "version": "3.8.8",
   "mimetype": "text/x-python",
   "codemirror_mode": {
    "name": "ipython",
    "version": 3
   },
   "pygments_lexer": "ipython3",
   "nbconvert_exporter": "python",
   "file_extension": ".py"
  },
  "kernelspec": {
   "name": "python3",
   "display_name": "Python 3.8.8 64-bit ('base': conda)"
  },
  "interpreter": {
   "hash": "cc5f70855ac006f3de45a3cc3b9e7d8d53845e50458809cb162b0174266dec97"
  }
 },
 "nbformat": 4,
 "nbformat_minor": 2
}